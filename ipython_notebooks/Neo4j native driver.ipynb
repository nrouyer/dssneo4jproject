{
  "metadata": {
    "kernelspec": {
      "name": "python3",
      "display_name": "Python 3",
      "language": "python"
    },
    "creator": "admin",
    "createdOn": 1650550745143,
    "tags": [],
    "customFields": {},
    "hide_input": false,
    "language_info": {
      "name": "python",
      "version": "3.7.10",
      "mimetype": "text/x-python",
      "codemirror_mode": {
        "name": "ipython",
        "version": 3
      },
      "pygments_lexer": "ipython3",
      "nbconvert_exporter": "python",
      "file_extension": ".py"
    },
    "modifiedBy": "admin"
  },
  "nbformat": 4,
  "nbformat_minor": 1,
  "cells": [
    {
      "execution_count": 2,
      "cell_type": "code",
      "metadata": {},
      "source": [
        "import neo4j"
      ],
      "outputs": [
        {
          "output_type": "error",
          "ename": "ModuleNotFoundError",
          "evalue": "No module named \u0027neo4j\u0027",
          "traceback": [
            "\u001b[0;31m---------------------------------------------------------------------------\u001b[0m",
            "\u001b[0;31mModuleNotFoundError\u001b[0m                       Traceback (most recent call last)",
            "\u001b[0;32m\u003cipython-input-2-f936d9d3df23\u003e\u001b[0m in \u001b[0;36m\u003cmodule\u003e\u001b[0;34m()\u001b[0m\n\u001b[0;32m----\u003e 1\u001b[0;31m \u001b[0;32mimport\u001b[0m \u001b[0mneo4j\u001b[0m\u001b[0;34m\u001b[0m\u001b[0;34m\u001b[0m\u001b[0m\n\u001b[0m",
            "\u001b[0;31mModuleNotFoundError\u001b[0m: No module named \u0027neo4j\u0027"
          ]
        }
      ]
    },
    {
      "execution_count": 1,
      "cell_type": "code",
      "metadata": {},
      "source": [
        "from neo4j import GraphDatabase\nimport logging\nfrom neo4j.exceptions import ServiceUnavailable\n\nclass App:\n\n    def __init__(self, uri, user, password):\n        self.driver \u003d GraphDatabase.driver(uri, auth\u003d(user, password))\n\n    def close(self):\n        # Don\u0027t forget to close the driver connection when you are finished with it\n        self.driver.close()\n\n    def create_friendship(self, person1_name, person2_name):\n        with self.driver.session() as session:\n            # Write transactions allow the driver to handle retries and transient errors\n            result \u003d session.write_transaction(\n                self._create_and_return_friendship, person1_name, person2_name)\n            for row in result:\n                print(\"Created friendship between: {p1}, {p2}\".format(p1\u003drow[\u0027p1\u0027], p2\u003drow[\u0027p2\u0027]))\n\n    @staticmethod\n    def _create_and_return_friendship(tx, person1_name, person2_name):\n        # To learn more about the Cypher syntax, see https://neo4j.com/docs/cypher-manual/current/\n        # The Reference Card is also a good resource for keywords https://neo4j.com/docs/cypher-refcard/current/\n        query \u003d (\n            \"CREATE (p1:Person { name: $person1_name }) \"\n            \"CREATE (p2:Person { name: $person2_name }) \"\n            \"CREATE (p1)-[:KNOWS]-\u003e(p2) \"\n            \"RETURN p1, p2\"\n        )\n        result \u003d tx.run(query, person1_name\u003dperson1_name, person2_name\u003dperson2_name)\n        try:\n            return [{\"p1\": row[\"p1\"][\"name\"], \"p2\": row[\"p2\"][\"name\"]}\n                    for row in result]\n        # Capture any errors along with the query and data for traceability\n        except ServiceUnavailable as exception:\n            logging.error(\"{query} raised an error: \\n {exception}\".format(\n                query\u003dquery, exception\u003dexception))\n            raise\n\n    def find_person(self, person_name):\n        with self.driver.session() as session:\n            result \u003d session.read_transaction(self._find_and_return_person, person_name)\n            for row in result:\n                print(\"Found person: {row}\".format(row\u003drow))\n\n    @staticmethod\n    def _find_and_return_person(tx, person_name):\n        query \u003d (\n            \"MATCH (p:Person) \"\n            \"WHERE p.name \u003d $person_name \"\n            \"RETURN p.name AS name\"\n        )\n        result \u003d tx.run(query, person_name\u003dperson_name)\n        return [row[\"name\"] for row in result]\n\n\nif __name__ \u003d\u003d \"__main__\":\n    # Aura queries use an encrypted connection using the \"neo4j+s\" URI scheme\n    uri \u003d \"neo4j+s://35.181.44.209/wine\"\n    user \u003d \"neo4j\"\n    password \u003d \"neo4jdss\"\n    app \u003d App(uri, user, password)\n    app.create_friendship(\"Alice\", \"David\")\n    app.find_person(\"Alice\")\n    app.close()"
      ],
      "outputs": [
        {
          "output_type": "error",
          "ename": "ModuleNotFoundError",
          "evalue": "No module named \u0027neo4j\u0027",
          "traceback": [
            "\u001b[0;31m---------------------------------------------------------------------------\u001b[0m",
            "\u001b[0;31mModuleNotFoundError\u001b[0m                       Traceback (most recent call last)",
            "\u001b[0;32m\u003cipython-input-1-c18b43eeef00\u003e\u001b[0m in \u001b[0;36m\u003cmodule\u003e\u001b[0;34m()\u001b[0m\n\u001b[0;32m----\u003e 1\u001b[0;31m \u001b[0;32mfrom\u001b[0m \u001b[0mneo4j\u001b[0m \u001b[0;32mimport\u001b[0m \u001b[0mGraphDatabase\u001b[0m\u001b[0;34m\u001b[0m\u001b[0;34m\u001b[0m\u001b[0m\n\u001b[0m\u001b[1;32m      2\u001b[0m \u001b[0;32mimport\u001b[0m \u001b[0mlogging\u001b[0m\u001b[0;34m\u001b[0m\u001b[0;34m\u001b[0m\u001b[0m\n\u001b[1;32m      3\u001b[0m \u001b[0;32mfrom\u001b[0m \u001b[0mneo4j\u001b[0m\u001b[0;34m.\u001b[0m\u001b[0mexceptions\u001b[0m \u001b[0;32mimport\u001b[0m \u001b[0mServiceUnavailable\u001b[0m\u001b[0;34m\u001b[0m\u001b[0;34m\u001b[0m\u001b[0m\n\u001b[1;32m      4\u001b[0m \u001b[0;34m\u001b[0m\u001b[0m\n\u001b[1;32m      5\u001b[0m \u001b[0;32mclass\u001b[0m \u001b[0mApp\u001b[0m\u001b[0;34m:\u001b[0m\u001b[0;34m\u001b[0m\u001b[0;34m\u001b[0m\u001b[0m\n",
            "\u001b[0;31mModuleNotFoundError\u001b[0m: No module named \u0027neo4j\u0027"
          ]
        }
      ]
    },
    {
      "execution_count": 0,
      "cell_type": "code",
      "metadata": {},
      "source": [
        ""
      ],
      "outputs": []
    },
    {
      "execution_count": 0,
      "cell_type": "code",
      "metadata": {},
      "source": [
        ""
      ],
      "outputs": []
    }
  ]
}