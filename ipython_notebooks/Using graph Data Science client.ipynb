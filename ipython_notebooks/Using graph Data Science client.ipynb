{
  "metadata": {
    "kernelspec": {
      "name": "python3",
      "display_name": "Python 3",
      "language": "python"
    },
    "creator": "admin",
    "createdOn": 1650898197503,
    "tags": [],
    "customFields": {},
    "hide_input": false,
    "language_info": {
      "name": "python",
      "version": "3.7.10",
      "mimetype": "text/x-python",
      "codemirror_mode": {
        "name": "ipython",
        "version": 3
      },
      "pygments_lexer": "ipython3",
      "nbconvert_exporter": "python",
      "file_extension": ".py"
    },
    "modifiedBy": "admin",
    "versionNumber": 1
  },
  "nbformat": 4,
  "nbformat_minor": 1,
  "cells": [
    {
      "execution_count": 26,
      "cell_type": "code",
      "metadata": {},
      "source": [
        "from graphdatascience import GraphDataScience\n\n# Configures the driver with AuraDS-recommended settings\ngds \u003d GraphDataScience(\n    \"neo4j+ssc://35.181.44.209:7687\",\n    auth\u003d(\"neo4j\", \"neo4jdss\")\n)\n\nprint(gds.version())"
      ],
      "outputs": [
        {
          "output_type": "stream",
          "text": "2.0.2\n",
          "name": "stdout"
        }
      ]
    },
    {
      "execution_count": 27,
      "cell_type": "code",
      "metadata": {},
      "source": [
        "# Sets database (if not default one)\ngds.set_database(\"wine\")"
      ],
      "outputs": []
    },
    {
      "execution_count": 8,
      "cell_type": "code",
      "metadata": {},
      "source": [
        "# Create a minimal similarity graph\ngds.run_cypher(\n  \"\"\"\n  WITH \u0027Trimbach, Pinot Gris Hommage Jeanne\u0027 AS wine1, \u0027Schieferkopf, Sylvaner\u0027 AS wine2, \u0027Hugel, Cuvee des Eveques Riesling\u0027 AS wine3, \u0027Hugel, Tokay Pinot Gris Jubilee\u0027 AS wine4, \u0027Nicolas\u0027 AS person1, \u0027Pierre\u0027 AS person2, \u0027Eva\u0027 AS person3, \u0027Romain\u0027 AS person4\n  MATCH (w1:Wine) WHERE w1.DISPLAY_NAME \u003d wine1\n  MATCH (w2:Wine) WHERE w2.DISPLAY_NAME \u003d wine2\n  MATCH (w3:Wine) WHERE w3.DISPLAY_NAME \u003d wine3\n  MATCH (w4:Wine) WHERE w4.DISPLAY_NAME \u003d wine4\n  MERGE (p1:Person {name: person1})\n  MERGE (p2:Person {name: person2})\n  MERGE (p3:Person {name: person3})\n  MERGE (p4:Person {name: person4})\n  MERGE (p1)-[:LIKES]-\u003e(w1)\n  MERGE (p1)-[:LIKES]-\u003e(w2)\n  MERGE (p2)-[:LIKES]-\u003e(w2)\n  MERGE (p2)-[:LIKES]-\u003e(w3)\n  MERGE (p3)-[:LIKES]-\u003e(w1)\n  MERGE (p3)-[:LIKES]-\u003e(w2)\n  MERGE (p4)-[:LIKES]-\u003e(w3)\n  MERGE (p4)-[:LIKES]-\u003e(w4)\n  \"\"\"\n)"
      ],
      "outputs": [
        {
          "output_type": "execute_result",
          "execution_count": 8,
          "data": {
            "text/plain": "Empty DataFrame\nColumns: []\nIndex: []",
            "text/html": "\u003cdiv\u003e\n\u003cstyle scoped\u003e\n    .dataframe tbody tr th:only-of-type {\n        vertical-align: middle;\n    }\n\n    .dataframe tbody tr th {\n        vertical-align: top;\n    }\n\n    .dataframe thead th {\n        text-align: right;\n    }\n\u003c/style\u003e\n\u003ctable border\u003d\"1\" class\u003d\"dataframe\"\u003e\n  \u003cthead\u003e\n    \u003ctr style\u003d\"text-align: right;\"\u003e\n      \u003cth\u003e\u003c/th\u003e\n    \u003c/tr\u003e\n  \u003c/thead\u003e\n  \u003ctbody\u003e\n  \u003c/tbody\u003e\n\u003c/table\u003e\n\u003c/div\u003e"
          },
          "metadata": {}
        }
      ]
    },
    {
      "execution_count": 9,
      "cell_type": "code",
      "metadata": {},
      "source": [
        "# Project the graph into the GDS Graph Catalog\n# We call the object representing the projected graph `G_wines`\nG_wines, res \u003d gds.graph.project(\"neo4j-wines\", [\"Person\", \"Wine\"], \"LIKES\")"
      ],
      "outputs": []
    },
    {
      "execution_count": 11,
      "cell_type": "code",
      "metadata": {},
      "source": [
        "n \u003d G_wines.node_count()"
      ],
      "outputs": []
    },
    {
      "execution_count": 12,
      "cell_type": "code",
      "metadata": {},
      "source": [
        "n"
      ],
      "outputs": [
        {
          "output_type": "execute_result",
          "execution_count": 12,
          "data": {
            "text/plain": "125218"
          },
          "metadata": {}
        }
      ]
    },
    {
      "execution_count": 15,
      "cell_type": "code",
      "metadata": {},
      "source": [
        "similarity_res \u003d gds.nodeSimilarity.write(\n    G_wines,                          #  Graph object\n    writeRelationshipType\u003d\"SIMILAR\",  #  Configuration parameters\n    writeProperty\u003d\"score\"\n)"
      ],
      "outputs": []
    },
    {
      "execution_count": 16,
      "cell_type": "code",
      "metadata": {},
      "source": [
        "similarity_res"
      ],
      "outputs": [
        {
          "output_type": "execute_result",
          "execution_count": 16,
          "data": {
            "text/plain": "preProcessingMillis                                                       0\ncomputeMillis                                                            55\nwriteMillis                                                              47\npostProcessingMillis                                                     -1\nnodesCompared                                                             4\nrelationshipsWritten                                                      8\nsimilarityDistribution    {\u0027p1\u0027: 0.3333320617675781, \u0027max\u0027: 1.0000057220...\nconfiguration             {\u0027topK\u0027: 10, \u0027writeConcurrency\u0027: 4, \u0027similarit...\nName: 0, dtype: object"
          },
          "metadata": {}
        }
      ]
    },
    {
      "execution_count": 30,
      "cell_type": "code",
      "metadata": {},
      "source": [
        "import pandas\nimport matplotlib.pyplot as plt"
      ],
      "outputs": []
    },
    {
      "execution_count": 28,
      "cell_type": "code",
      "metadata": {},
      "source": [
        "# get similarity matrix data frame from graph\n# Create a minimal similarity graph\npd \u003d gds.run_cypher(\n  \"\"\"\n  MATCH (p1:Person)\n  MATCH (p2:Person)\n  OPTIONAL MATCH (p1)-[s:SIMILAR]-\u003e(p2)\n  RETURN p1.name AS person1, p2.name AS person2, coalesce(s.score, 0) AS score\n  \"\"\"\n)"
      ],
      "outputs": []
    },
    {
      "execution_count": 29,
      "cell_type": "code",
      "metadata": {},
      "source": [
        "pd"
      ],
      "outputs": [
        {
          "output_type": "execute_result",
          "execution_count": 29,
          "data": {
            "text/plain": "    person1  person2     score\n0   Nicolas  Nicolas  0.000000\n1   Nicolas   Pierre  0.333333\n2   Nicolas      Eva  1.000000\n3   Nicolas   Romain  0.000000\n4    Pierre  Nicolas  0.333333\n5    Pierre   Pierre  0.000000\n6    Pierre      Eva  0.333333\n7    Pierre   Romain  0.333333\n8       Eva  Nicolas  1.000000\n9       Eva   Pierre  0.333333\n10      Eva      Eva  0.000000\n11      Eva   Romain  0.000000\n12   Romain  Nicolas  0.000000\n13   Romain   Pierre  0.333333\n14   Romain      Eva  0.000000\n15   Romain   Romain  0.000000",
            "text/html": "\u003cdiv\u003e\n\u003cstyle scoped\u003e\n    .dataframe tbody tr th:only-of-type {\n        vertical-align: middle;\n    }\n\n    .dataframe tbody tr th {\n        vertical-align: top;\n    }\n\n    .dataframe thead th {\n        text-align: right;\n    }\n\u003c/style\u003e\n\u003ctable border\u003d\"1\" class\u003d\"dataframe\"\u003e\n  \u003cthead\u003e\n    \u003ctr style\u003d\"text-align: right;\"\u003e\n      \u003cth\u003e\u003c/th\u003e\n      \u003cth\u003eperson1\u003c/th\u003e\n      \u003cth\u003eperson2\u003c/th\u003e\n      \u003cth\u003escore\u003c/th\u003e\n    \u003c/tr\u003e\n  \u003c/thead\u003e\n  \u003ctbody\u003e\n    \u003ctr\u003e\n      \u003cth\u003e0\u003c/th\u003e\n      \u003ctd\u003eNicolas\u003c/td\u003e\n      \u003ctd\u003eNicolas\u003c/td\u003e\n      \u003ctd\u003e0.000000\u003c/td\u003e\n    \u003c/tr\u003e\n    \u003ctr\u003e\n      \u003cth\u003e1\u003c/th\u003e\n      \u003ctd\u003eNicolas\u003c/td\u003e\n      \u003ctd\u003ePierre\u003c/td\u003e\n      \u003ctd\u003e0.333333\u003c/td\u003e\n    \u003c/tr\u003e\n    \u003ctr\u003e\n      \u003cth\u003e2\u003c/th\u003e\n      \u003ctd\u003eNicolas\u003c/td\u003e\n      \u003ctd\u003eEva\u003c/td\u003e\n      \u003ctd\u003e1.000000\u003c/td\u003e\n    \u003c/tr\u003e\n    \u003ctr\u003e\n      \u003cth\u003e3\u003c/th\u003e\n      \u003ctd\u003eNicolas\u003c/td\u003e\n      \u003ctd\u003eRomain\u003c/td\u003e\n      \u003ctd\u003e0.000000\u003c/td\u003e\n    \u003c/tr\u003e\n    \u003ctr\u003e\n      \u003cth\u003e4\u003c/th\u003e\n      \u003ctd\u003ePierre\u003c/td\u003e\n      \u003ctd\u003eNicolas\u003c/td\u003e\n      \u003ctd\u003e0.333333\u003c/td\u003e\n    \u003c/tr\u003e\n    \u003ctr\u003e\n      \u003cth\u003e5\u003c/th\u003e\n      \u003ctd\u003ePierre\u003c/td\u003e\n      \u003ctd\u003ePierre\u003c/td\u003e\n      \u003ctd\u003e0.000000\u003c/td\u003e\n    \u003c/tr\u003e\n    \u003ctr\u003e\n      \u003cth\u003e6\u003c/th\u003e\n      \u003ctd\u003ePierre\u003c/td\u003e\n      \u003ctd\u003eEva\u003c/td\u003e\n      \u003ctd\u003e0.333333\u003c/td\u003e\n    \u003c/tr\u003e\n    \u003ctr\u003e\n      \u003cth\u003e7\u003c/th\u003e\n      \u003ctd\u003ePierre\u003c/td\u003e\n      \u003ctd\u003eRomain\u003c/td\u003e\n      \u003ctd\u003e0.333333\u003c/td\u003e\n    \u003c/tr\u003e\n    \u003ctr\u003e\n      \u003cth\u003e8\u003c/th\u003e\n      \u003ctd\u003eEva\u003c/td\u003e\n      \u003ctd\u003eNicolas\u003c/td\u003e\n      \u003ctd\u003e1.000000\u003c/td\u003e\n    \u003c/tr\u003e\n    \u003ctr\u003e\n      \u003cth\u003e9\u003c/th\u003e\n      \u003ctd\u003eEva\u003c/td\u003e\n      \u003ctd\u003ePierre\u003c/td\u003e\n      \u003ctd\u003e0.333333\u003c/td\u003e\n    \u003c/tr\u003e\n    \u003ctr\u003e\n      \u003cth\u003e10\u003c/th\u003e\n      \u003ctd\u003eEva\u003c/td\u003e\n      \u003ctd\u003eEva\u003c/td\u003e\n      \u003ctd\u003e0.000000\u003c/td\u003e\n    \u003c/tr\u003e\n    \u003ctr\u003e\n      \u003cth\u003e11\u003c/th\u003e\n      \u003ctd\u003eEva\u003c/td\u003e\n      \u003ctd\u003eRomain\u003c/td\u003e\n      \u003ctd\u003e0.000000\u003c/td\u003e\n    \u003c/tr\u003e\n    \u003ctr\u003e\n      \u003cth\u003e12\u003c/th\u003e\n      \u003ctd\u003eRomain\u003c/td\u003e\n      \u003ctd\u003eNicolas\u003c/td\u003e\n      \u003ctd\u003e0.000000\u003c/td\u003e\n    \u003c/tr\u003e\n    \u003ctr\u003e\n      \u003cth\u003e13\u003c/th\u003e\n      \u003ctd\u003eRomain\u003c/td\u003e\n      \u003ctd\u003ePierre\u003c/td\u003e\n      \u003ctd\u003e0.333333\u003c/td\u003e\n    \u003c/tr\u003e\n    \u003ctr\u003e\n      \u003cth\u003e14\u003c/th\u003e\n      \u003ctd\u003eRomain\u003c/td\u003e\n      \u003ctd\u003eEva\u003c/td\u003e\n      \u003ctd\u003e0.000000\u003c/td\u003e\n    \u003c/tr\u003e\n    \u003ctr\u003e\n      \u003cth\u003e15\u003c/th\u003e\n      \u003ctd\u003eRomain\u003c/td\u003e\n      \u003ctd\u003eRomain\u003c/td\u003e\n      \u003ctd\u003e0.000000\u003c/td\u003e\n    \u003c/tr\u003e\n  \u003c/tbody\u003e\n\u003c/table\u003e\n\u003c/div\u003e"
          },
          "metadata": {}
        }
      ]
    },
    {
      "execution_count": 34,
      "cell_type": "code",
      "metadata": {},
      "source": [
        "pd.style.background_gradient(cmap \u003d\u0027RdYlBu\u0027)\\\n        .set_properties(**{\u0027font-size\u0027: \u002714px\u0027})"
      ],
      "outputs": [
        {
          "output_type": "execute_result",
          "execution_count": 34,
          "data": {
            "text/plain": "\u003cpandas.io.formats.style.Styler at 0x7fbda202ded0\u003e",
            "text/html": "\u003cstyle type\u003d\"text/css\"\u003e\n#T_8a444_row0_col0, #T_8a444_row0_col1, #T_8a444_row1_col0, #T_8a444_row1_col1, #T_8a444_row2_col0, #T_8a444_row2_col1, #T_8a444_row3_col0, #T_8a444_row3_col1, #T_8a444_row4_col0, #T_8a444_row4_col1, #T_8a444_row5_col0, #T_8a444_row5_col1, #T_8a444_row6_col0, #T_8a444_row6_col1, #T_8a444_row7_col0, #T_8a444_row7_col1, #T_8a444_row8_col0, #T_8a444_row8_col1, #T_8a444_row9_col0, #T_8a444_row9_col1, #T_8a444_row10_col0, #T_8a444_row10_col1, #T_8a444_row11_col0, #T_8a444_row11_col1, #T_8a444_row12_col0, #T_8a444_row12_col1, #T_8a444_row13_col0, #T_8a444_row13_col1, #T_8a444_row14_col0, #T_8a444_row14_col1, #T_8a444_row15_col0, #T_8a444_row15_col1 {\n  font-size: 14px;\n}\n#T_8a444_row0_col2, #T_8a444_row3_col2, #T_8a444_row5_col2, #T_8a444_row10_col2, #T_8a444_row11_col2, #T_8a444_row12_col2, #T_8a444_row14_col2, #T_8a444_row15_col2 {\n  background-color: #a50026;\n  color: #f1f1f1;\n  font-size: 14px;\n}\n#T_8a444_row1_col2, #T_8a444_row4_col2, #T_8a444_row6_col2, #T_8a444_row7_col2, #T_8a444_row9_col2, #T_8a444_row13_col2 {\n  background-color: #fdbf71;\n  color: #000000;\n  font-size: 14px;\n}\n#T_8a444_row2_col2, #T_8a444_row8_col2 {\n  background-color: #313695;\n  color: #f1f1f1;\n  font-size: 14px;\n}\n\u003c/style\u003e\n\u003ctable id\u003d\"T_8a444_\"\u003e\n  \u003cthead\u003e\n    \u003ctr\u003e\n      \u003cth class\u003d\"blank level0\" \u003e\u0026nbsp;\u003c/th\u003e\n      \u003cth class\u003d\"col_heading level0 col0\" \u003eperson1\u003c/th\u003e\n      \u003cth class\u003d\"col_heading level0 col1\" \u003eperson2\u003c/th\u003e\n      \u003cth class\u003d\"col_heading level0 col2\" \u003escore\u003c/th\u003e\n    \u003c/tr\u003e\n  \u003c/thead\u003e\n  \u003ctbody\u003e\n    \u003ctr\u003e\n      \u003cth id\u003d\"T_8a444_level0_row0\" class\u003d\"row_heading level0 row0\" \u003e0\u003c/th\u003e\n      \u003ctd id\u003d\"T_8a444_row0_col0\" class\u003d\"data row0 col0\" \u003eNicolas\u003c/td\u003e\n      \u003ctd id\u003d\"T_8a444_row0_col1\" class\u003d\"data row0 col1\" \u003eNicolas\u003c/td\u003e\n      \u003ctd id\u003d\"T_8a444_row0_col2\" class\u003d\"data row0 col2\" \u003e0.000000\u003c/td\u003e\n    \u003c/tr\u003e\n    \u003ctr\u003e\n      \u003cth id\u003d\"T_8a444_level0_row1\" class\u003d\"row_heading level0 row1\" \u003e1\u003c/th\u003e\n      \u003ctd id\u003d\"T_8a444_row1_col0\" class\u003d\"data row1 col0\" \u003eNicolas\u003c/td\u003e\n      \u003ctd id\u003d\"T_8a444_row1_col1\" class\u003d\"data row1 col1\" \u003ePierre\u003c/td\u003e\n      \u003ctd id\u003d\"T_8a444_row1_col2\" class\u003d\"data row1 col2\" \u003e0.333333\u003c/td\u003e\n    \u003c/tr\u003e\n    \u003ctr\u003e\n      \u003cth id\u003d\"T_8a444_level0_row2\" class\u003d\"row_heading level0 row2\" \u003e2\u003c/th\u003e\n      \u003ctd id\u003d\"T_8a444_row2_col0\" class\u003d\"data row2 col0\" \u003eNicolas\u003c/td\u003e\n      \u003ctd id\u003d\"T_8a444_row2_col1\" class\u003d\"data row2 col1\" \u003eEva\u003c/td\u003e\n      \u003ctd id\u003d\"T_8a444_row2_col2\" class\u003d\"data row2 col2\" \u003e1.000000\u003c/td\u003e\n    \u003c/tr\u003e\n    \u003ctr\u003e\n      \u003cth id\u003d\"T_8a444_level0_row3\" class\u003d\"row_heading level0 row3\" \u003e3\u003c/th\u003e\n      \u003ctd id\u003d\"T_8a444_row3_col0\" class\u003d\"data row3 col0\" \u003eNicolas\u003c/td\u003e\n      \u003ctd id\u003d\"T_8a444_row3_col1\" class\u003d\"data row3 col1\" \u003eRomain\u003c/td\u003e\n      \u003ctd id\u003d\"T_8a444_row3_col2\" class\u003d\"data row3 col2\" \u003e0.000000\u003c/td\u003e\n    \u003c/tr\u003e\n    \u003ctr\u003e\n      \u003cth id\u003d\"T_8a444_level0_row4\" class\u003d\"row_heading level0 row4\" \u003e4\u003c/th\u003e\n      \u003ctd id\u003d\"T_8a444_row4_col0\" class\u003d\"data row4 col0\" \u003ePierre\u003c/td\u003e\n      \u003ctd id\u003d\"T_8a444_row4_col1\" class\u003d\"data row4 col1\" \u003eNicolas\u003c/td\u003e\n      \u003ctd id\u003d\"T_8a444_row4_col2\" class\u003d\"data row4 col2\" \u003e0.333333\u003c/td\u003e\n    \u003c/tr\u003e\n    \u003ctr\u003e\n      \u003cth id\u003d\"T_8a444_level0_row5\" class\u003d\"row_heading level0 row5\" \u003e5\u003c/th\u003e\n      \u003ctd id\u003d\"T_8a444_row5_col0\" class\u003d\"data row5 col0\" \u003ePierre\u003c/td\u003e\n      \u003ctd id\u003d\"T_8a444_row5_col1\" class\u003d\"data row5 col1\" \u003ePierre\u003c/td\u003e\n      \u003ctd id\u003d\"T_8a444_row5_col2\" class\u003d\"data row5 col2\" \u003e0.000000\u003c/td\u003e\n    \u003c/tr\u003e\n    \u003ctr\u003e\n      \u003cth id\u003d\"T_8a444_level0_row6\" class\u003d\"row_heading level0 row6\" \u003e6\u003c/th\u003e\n      \u003ctd id\u003d\"T_8a444_row6_col0\" class\u003d\"data row6 col0\" \u003ePierre\u003c/td\u003e\n      \u003ctd id\u003d\"T_8a444_row6_col1\" class\u003d\"data row6 col1\" \u003eEva\u003c/td\u003e\n      \u003ctd id\u003d\"T_8a444_row6_col2\" class\u003d\"data row6 col2\" \u003e0.333333\u003c/td\u003e\n    \u003c/tr\u003e\n    \u003ctr\u003e\n      \u003cth id\u003d\"T_8a444_level0_row7\" class\u003d\"row_heading level0 row7\" \u003e7\u003c/th\u003e\n      \u003ctd id\u003d\"T_8a444_row7_col0\" class\u003d\"data row7 col0\" \u003ePierre\u003c/td\u003e\n      \u003ctd id\u003d\"T_8a444_row7_col1\" class\u003d\"data row7 col1\" \u003eRomain\u003c/td\u003e\n      \u003ctd id\u003d\"T_8a444_row7_col2\" class\u003d\"data row7 col2\" \u003e0.333333\u003c/td\u003e\n    \u003c/tr\u003e\n    \u003ctr\u003e\n      \u003cth id\u003d\"T_8a444_level0_row8\" class\u003d\"row_heading level0 row8\" \u003e8\u003c/th\u003e\n      \u003ctd id\u003d\"T_8a444_row8_col0\" class\u003d\"data row8 col0\" \u003eEva\u003c/td\u003e\n      \u003ctd id\u003d\"T_8a444_row8_col1\" class\u003d\"data row8 col1\" \u003eNicolas\u003c/td\u003e\n      \u003ctd id\u003d\"T_8a444_row8_col2\" class\u003d\"data row8 col2\" \u003e1.000000\u003c/td\u003e\n    \u003c/tr\u003e\n    \u003ctr\u003e\n      \u003cth id\u003d\"T_8a444_level0_row9\" class\u003d\"row_heading level0 row9\" \u003e9\u003c/th\u003e\n      \u003ctd id\u003d\"T_8a444_row9_col0\" class\u003d\"data row9 col0\" \u003eEva\u003c/td\u003e\n      \u003ctd id\u003d\"T_8a444_row9_col1\" class\u003d\"data row9 col1\" \u003ePierre\u003c/td\u003e\n      \u003ctd id\u003d\"T_8a444_row9_col2\" class\u003d\"data row9 col2\" \u003e0.333333\u003c/td\u003e\n    \u003c/tr\u003e\n    \u003ctr\u003e\n      \u003cth id\u003d\"T_8a444_level0_row10\" class\u003d\"row_heading level0 row10\" \u003e10\u003c/th\u003e\n      \u003ctd id\u003d\"T_8a444_row10_col0\" class\u003d\"data row10 col0\" \u003eEva\u003c/td\u003e\n      \u003ctd id\u003d\"T_8a444_row10_col1\" class\u003d\"data row10 col1\" \u003eEva\u003c/td\u003e\n      \u003ctd id\u003d\"T_8a444_row10_col2\" class\u003d\"data row10 col2\" \u003e0.000000\u003c/td\u003e\n    \u003c/tr\u003e\n    \u003ctr\u003e\n      \u003cth id\u003d\"T_8a444_level0_row11\" class\u003d\"row_heading level0 row11\" \u003e11\u003c/th\u003e\n      \u003ctd id\u003d\"T_8a444_row11_col0\" class\u003d\"data row11 col0\" \u003eEva\u003c/td\u003e\n      \u003ctd id\u003d\"T_8a444_row11_col1\" class\u003d\"data row11 col1\" \u003eRomain\u003c/td\u003e\n      \u003ctd id\u003d\"T_8a444_row11_col2\" class\u003d\"data row11 col2\" \u003e0.000000\u003c/td\u003e\n    \u003c/tr\u003e\n    \u003ctr\u003e\n      \u003cth id\u003d\"T_8a444_level0_row12\" class\u003d\"row_heading level0 row12\" \u003e12\u003c/th\u003e\n      \u003ctd id\u003d\"T_8a444_row12_col0\" class\u003d\"data row12 col0\" \u003eRomain\u003c/td\u003e\n      \u003ctd id\u003d\"T_8a444_row12_col1\" class\u003d\"data row12 col1\" \u003eNicolas\u003c/td\u003e\n      \u003ctd id\u003d\"T_8a444_row12_col2\" class\u003d\"data row12 col2\" \u003e0.000000\u003c/td\u003e\n    \u003c/tr\u003e\n    \u003ctr\u003e\n      \u003cth id\u003d\"T_8a444_level0_row13\" class\u003d\"row_heading level0 row13\" \u003e13\u003c/th\u003e\n      \u003ctd id\u003d\"T_8a444_row13_col0\" class\u003d\"data row13 col0\" \u003eRomain\u003c/td\u003e\n      \u003ctd id\u003d\"T_8a444_row13_col1\" class\u003d\"data row13 col1\" \u003ePierre\u003c/td\u003e\n      \u003ctd id\u003d\"T_8a444_row13_col2\" class\u003d\"data row13 col2\" \u003e0.333333\u003c/td\u003e\n    \u003c/tr\u003e\n    \u003ctr\u003e\n      \u003cth id\u003d\"T_8a444_level0_row14\" class\u003d\"row_heading level0 row14\" \u003e14\u003c/th\u003e\n      \u003ctd id\u003d\"T_8a444_row14_col0\" class\u003d\"data row14 col0\" \u003eRomain\u003c/td\u003e\n      \u003ctd id\u003d\"T_8a444_row14_col1\" class\u003d\"data row14 col1\" \u003eEva\u003c/td\u003e\n      \u003ctd id\u003d\"T_8a444_row14_col2\" class\u003d\"data row14 col2\" \u003e0.000000\u003c/td\u003e\n    \u003c/tr\u003e\n    \u003ctr\u003e\n      \u003cth id\u003d\"T_8a444_level0_row15\" class\u003d\"row_heading level0 row15\" \u003e15\u003c/th\u003e\n      \u003ctd id\u003d\"T_8a444_row15_col0\" class\u003d\"data row15 col0\" \u003eRomain\u003c/td\u003e\n      \u003ctd id\u003d\"T_8a444_row15_col1\" class\u003d\"data row15 col1\" \u003eRomain\u003c/td\u003e\n      \u003ctd id\u003d\"T_8a444_row15_col2\" class\u003d\"data row15 col2\" \u003e0.000000\u003c/td\u003e\n    \u003c/tr\u003e\n  \u003c/tbody\u003e\n\u003c/table\u003e\n"
          },
          "metadata": {}
        }
      ]
    },
    {
      "execution_count": 46,
      "cell_type": "code",
      "metadata": {},
      "source": [
        "plt.scatter(pd[\u0027person1\u0027], pd[\u0027person2\u0027], pd[\u0027score\u0027], cmap\u003d\u0027plasma\u0027)\nplt.xlabel(\"Personne\")\nplt.ylabel(\"Personne\")\nplt.show()"
      ],
      "outputs": [
        {
          "output_type": "stream",
          "text": "Failed to write data to connection ResolvedIPv4Address((\u002735.181.44.209\u0027, 7687)) (IPv4Address((\u002735.181.44.209\u0027, 7687)))\n",
          "name": "stderr"
        },
        {
          "output_type": "display_data",
          "data": {
            "text/plain": "\u003cFigure size 432x288 with 1 Axes\u003e",
            "image/png": "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\u003d\u003d\n"
          },
          "metadata": {}
        }
      ]
    },
    {
      "execution_count": 40,
      "cell_type": "code",
      "metadata": {},
      "source": [
        "plt.show()"
      ],
      "outputs": []
    },
    {
      "execution_count": 0,
      "cell_type": "code",
      "metadata": {},
      "source": [
        ""
      ],
      "outputs": []
    }
  ]
}