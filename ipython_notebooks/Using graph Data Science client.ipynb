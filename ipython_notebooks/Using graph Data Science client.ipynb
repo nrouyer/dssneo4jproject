{
  "metadata": {
    "kernelspec": {
      "name": "python3",
      "display_name": "Python 3",
      "language": "python"
    },
    "creator": "admin",
    "createdOn": 1650898197503,
    "tags": [],
    "customFields": {},
    "hide_input": false,
    "language_info": {
      "name": "python",
      "version": "3.7.10",
      "mimetype": "text/x-python",
      "codemirror_mode": {
        "name": "ipython",
        "version": 3
      },
      "pygments_lexer": "ipython3",
      "nbconvert_exporter": "python",
      "file_extension": ".py"
    },
    "modifiedBy": "admin",
    "versionNumber": 1
  },
  "nbformat": 4,
  "nbformat_minor": 1,
  "cells": [
    {
      "execution_count": 26,
      "cell_type": "code",
      "metadata": {},
      "source": [
        "from graphdatascience import GraphDataScience\n\n# Configures the driver with AuraDS-recommended settings\ngds \u003d GraphDataScience(\n    \"neo4j+ssc://35.181.44.209:7687\",\n    auth\u003d(\"neo4j\", \"neo4jdss\")\n)\n\nprint(gds.version())"
      ],
      "outputs": [
        {
          "output_type": "stream",
          "text": "2.0.2\n",
          "name": "stdout"
        }
      ]
    },
    {
      "execution_count": 27,
      "cell_type": "code",
      "metadata": {},
      "source": [
        "# Sets database (if not default one)\ngds.set_database(\"wine\")"
      ],
      "outputs": []
    },
    {
      "execution_count": 8,
      "cell_type": "code",
      "metadata": {},
      "source": [
        "# Create a minimal similarity graph\ngds.run_cypher(\n  \"\"\"\n  WITH \u0027Trimbach, Pinot Gris Hommage Jeanne\u0027 AS wine1, \u0027Schieferkopf, Sylvaner\u0027 AS wine2, \u0027Hugel, Cuvee des Eveques Riesling\u0027 AS wine3, \u0027Hugel, Tokay Pinot Gris Jubilee\u0027 AS wine4, \u0027Nicolas\u0027 AS person1, \u0027Pierre\u0027 AS person2, \u0027Eva\u0027 AS person3, \u0027Romain\u0027 AS person4\n  MATCH (w1:Wine) WHERE w1.DISPLAY_NAME \u003d wine1\n  MATCH (w2:Wine) WHERE w2.DISPLAY_NAME \u003d wine2\n  MATCH (w3:Wine) WHERE w3.DISPLAY_NAME \u003d wine3\n  MATCH (w4:Wine) WHERE w4.DISPLAY_NAME \u003d wine4\n  MERGE (p1:Person {name: person1})\n  MERGE (p2:Person {name: person2})\n  MERGE (p3:Person {name: person3})\n  MERGE (p4:Person {name: person4})\n  MERGE (p1)-[:LIKES]-\u003e(w1)\n  MERGE (p1)-[:LIKES]-\u003e(w2)\n  MERGE (p2)-[:LIKES]-\u003e(w2)\n  MERGE (p2)-[:LIKES]-\u003e(w3)\n  MERGE (p3)-[:LIKES]-\u003e(w1)\n  MERGE (p3)-[:LIKES]-\u003e(w2)\n  MERGE (p4)-[:LIKES]-\u003e(w3)\n  MERGE (p4)-[:LIKES]-\u003e(w4)\n  \"\"\"\n)"
      ],
      "outputs": [
        {
          "output_type": "execute_result",
          "execution_count": 8,
          "data": {
            "text/plain": "Empty DataFrame\nColumns: []\nIndex: []",
            "text/html": "\u003cdiv\u003e\n\u003cstyle scoped\u003e\n    .dataframe tbody tr th:only-of-type {\n        vertical-align: middle;\n    }\n\n    .dataframe tbody tr th {\n        vertical-align: top;\n    }\n\n    .dataframe thead th {\n        text-align: right;\n    }\n\u003c/style\u003e\n\u003ctable border\u003d\"1\" class\u003d\"dataframe\"\u003e\n  \u003cthead\u003e\n    \u003ctr style\u003d\"text-align: right;\"\u003e\n      \u003cth\u003e\u003c/th\u003e\n    \u003c/tr\u003e\n  \u003c/thead\u003e\n  \u003ctbody\u003e\n  \u003c/tbody\u003e\n\u003c/table\u003e\n\u003c/div\u003e"
          },
          "metadata": {}
        }
      ]
    },
    {
      "execution_count": 9,
      "cell_type": "code",
      "metadata": {},
      "source": [
        "# Project the graph into the GDS Graph Catalog\n# We call the object representing the projected graph `G_wines`\nG_wines, res \u003d gds.graph.project(\"neo4j-wines\", [\"Person\", \"Wine\"], \"LIKES\")"
      ],
      "outputs": []
    },
    {
      "execution_count": 11,
      "cell_type": "code",
      "metadata": {},
      "source": [
        "n \u003d G_wines.node_count()"
      ],
      "outputs": []
    },
    {
      "execution_count": 12,
      "cell_type": "code",
      "metadata": {},
      "source": [
        "n"
      ],
      "outputs": [
        {
          "output_type": "execute_result",
          "execution_count": 12,
          "data": {
            "text/plain": "125218"
          },
          "metadata": {}
        }
      ]
    },
    {
      "execution_count": 15,
      "cell_type": "code",
      "metadata": {},
      "source": [
        "similarity_res \u003d gds.nodeSimilarity.write(\n    G_wines,                          #  Graph object\n    writeRelationshipType\u003d\"SIMILAR\",  #  Configuration parameters\n    writeProperty\u003d\"score\"\n)"
      ],
      "outputs": []
    },
    {
      "execution_count": 16,
      "cell_type": "code",
      "metadata": {},
      "source": [
        "similarity_res"
      ],
      "outputs": [
        {
          "output_type": "execute_result",
          "execution_count": 16,
          "data": {
            "text/plain": "preProcessingMillis                                                       0\ncomputeMillis                                                            55\nwriteMillis                                                              47\npostProcessingMillis                                                     -1\nnodesCompared                                                             4\nrelationshipsWritten                                                      8\nsimilarityDistribution    {\u0027p1\u0027: 0.3333320617675781, \u0027max\u0027: 1.0000057220...\nconfiguration             {\u0027topK\u0027: 10, \u0027writeConcurrency\u0027: 4, \u0027similarit...\nName: 0, dtype: object"
          },
          "metadata": {}
        }
      ]
    },
    {
      "execution_count": 30,
      "cell_type": "code",
      "metadata": {},
      "source": [
        "import pandas\nimport matplotlib.pyplot as plt"
      ],
      "outputs": []
    },
    {
      "execution_count": 28,
      "cell_type": "code",
      "metadata": {},
      "source": [
        "# get similarity matrix data frame from graph\n# Create a minimal similarity graph\npd \u003d gds.run_cypher(\n  \"\"\"\n  MATCH (p1:Person)\n  MATCH (p2:Person)\n  OPTIONAL MATCH (p1)-[s:SIMILAR]-\u003e(p2)\n  RETURN p1.name AS person1, p2.name AS person2, coalesce(s.score, 0) AS score\n  \"\"\"\n)"
      ],
      "outputs": []
    },
    {
      "execution_count": 29,
      "cell_type": "code",
      "metadata": {},
      "source": [
        "pd"
      ],
      "outputs": [
        {
          "output_type": "execute_result",
          "execution_count": 29,
          "data": {
            "text/plain": "    person1  person2     score\n0   Nicolas  Nicolas  0.000000\n1   Nicolas   Pierre  0.333333\n2   Nicolas      Eva  1.000000\n3   Nicolas   Romain  0.000000\n4    Pierre  Nicolas  0.333333\n5    Pierre   Pierre  0.000000\n6    Pierre      Eva  0.333333\n7    Pierre   Romain  0.333333\n8       Eva  Nicolas  1.000000\n9       Eva   Pierre  0.333333\n10      Eva      Eva  0.000000\n11      Eva   Romain  0.000000\n12   Romain  Nicolas  0.000000\n13   Romain   Pierre  0.333333\n14   Romain      Eva  0.000000\n15   Romain   Romain  0.000000",
            "text/html": "\u003cdiv\u003e\n\u003cstyle scoped\u003e\n    .dataframe tbody tr th:only-of-type {\n        vertical-align: middle;\n    }\n\n    .dataframe tbody tr th {\n        vertical-align: top;\n    }\n\n    .dataframe thead th {\n        text-align: right;\n    }\n\u003c/style\u003e\n\u003ctable border\u003d\"1\" class\u003d\"dataframe\"\u003e\n  \u003cthead\u003e\n    \u003ctr style\u003d\"text-align: right;\"\u003e\n      \u003cth\u003e\u003c/th\u003e\n      \u003cth\u003eperson1\u003c/th\u003e\n      \u003cth\u003eperson2\u003c/th\u003e\n      \u003cth\u003escore\u003c/th\u003e\n    \u003c/tr\u003e\n  \u003c/thead\u003e\n  \u003ctbody\u003e\n    \u003ctr\u003e\n      \u003cth\u003e0\u003c/th\u003e\n      \u003ctd\u003eNicolas\u003c/td\u003e\n      \u003ctd\u003eNicolas\u003c/td\u003e\n      \u003ctd\u003e0.000000\u003c/td\u003e\n    \u003c/tr\u003e\n    \u003ctr\u003e\n      \u003cth\u003e1\u003c/th\u003e\n      \u003ctd\u003eNicolas\u003c/td\u003e\n      \u003ctd\u003ePierre\u003c/td\u003e\n      \u003ctd\u003e0.333333\u003c/td\u003e\n    \u003c/tr\u003e\n    \u003ctr\u003e\n      \u003cth\u003e2\u003c/th\u003e\n      \u003ctd\u003eNicolas\u003c/td\u003e\n      \u003ctd\u003eEva\u003c/td\u003e\n      \u003ctd\u003e1.000000\u003c/td\u003e\n    \u003c/tr\u003e\n    \u003ctr\u003e\n      \u003cth\u003e3\u003c/th\u003e\n      \u003ctd\u003eNicolas\u003c/td\u003e\n      \u003ctd\u003eRomain\u003c/td\u003e\n      \u003ctd\u003e0.000000\u003c/td\u003e\n    \u003c/tr\u003e\n    \u003ctr\u003e\n      \u003cth\u003e4\u003c/th\u003e\n      \u003ctd\u003ePierre\u003c/td\u003e\n      \u003ctd\u003eNicolas\u003c/td\u003e\n      \u003ctd\u003e0.333333\u003c/td\u003e\n    \u003c/tr\u003e\n    \u003ctr\u003e\n      \u003cth\u003e5\u003c/th\u003e\n      \u003ctd\u003ePierre\u003c/td\u003e\n      \u003ctd\u003ePierre\u003c/td\u003e\n      \u003ctd\u003e0.000000\u003c/td\u003e\n    \u003c/tr\u003e\n    \u003ctr\u003e\n      \u003cth\u003e6\u003c/th\u003e\n      \u003ctd\u003ePierre\u003c/td\u003e\n      \u003ctd\u003eEva\u003c/td\u003e\n      \u003ctd\u003e0.333333\u003c/td\u003e\n    \u003c/tr\u003e\n    \u003ctr\u003e\n      \u003cth\u003e7\u003c/th\u003e\n      \u003ctd\u003ePierre\u003c/td\u003e\n      \u003ctd\u003eRomain\u003c/td\u003e\n      \u003ctd\u003e0.333333\u003c/td\u003e\n    \u003c/tr\u003e\n    \u003ctr\u003e\n      \u003cth\u003e8\u003c/th\u003e\n      \u003ctd\u003eEva\u003c/td\u003e\n      \u003ctd\u003eNicolas\u003c/td\u003e\n      \u003ctd\u003e1.000000\u003c/td\u003e\n    \u003c/tr\u003e\n    \u003ctr\u003e\n      \u003cth\u003e9\u003c/th\u003e\n      \u003ctd\u003eEva\u003c/td\u003e\n      \u003ctd\u003ePierre\u003c/td\u003e\n      \u003ctd\u003e0.333333\u003c/td\u003e\n    \u003c/tr\u003e\n    \u003ctr\u003e\n      \u003cth\u003e10\u003c/th\u003e\n      \u003ctd\u003eEva\u003c/td\u003e\n      \u003ctd\u003eEva\u003c/td\u003e\n      \u003ctd\u003e0.000000\u003c/td\u003e\n    \u003c/tr\u003e\n    \u003ctr\u003e\n      \u003cth\u003e11\u003c/th\u003e\n      \u003ctd\u003eEva\u003c/td\u003e\n      \u003ctd\u003eRomain\u003c/td\u003e\n      \u003ctd\u003e0.000000\u003c/td\u003e\n    \u003c/tr\u003e\n    \u003ctr\u003e\n      \u003cth\u003e12\u003c/th\u003e\n      \u003ctd\u003eRomain\u003c/td\u003e\n      \u003ctd\u003eNicolas\u003c/td\u003e\n      \u003ctd\u003e0.000000\u003c/td\u003e\n    \u003c/tr\u003e\n    \u003ctr\u003e\n      \u003cth\u003e13\u003c/th\u003e\n      \u003ctd\u003eRomain\u003c/td\u003e\n      \u003ctd\u003ePierre\u003c/td\u003e\n      \u003ctd\u003e0.333333\u003c/td\u003e\n    \u003c/tr\u003e\n    \u003ctr\u003e\n      \u003cth\u003e14\u003c/th\u003e\n      \u003ctd\u003eRomain\u003c/td\u003e\n      \u003ctd\u003eEva\u003c/td\u003e\n      \u003ctd\u003e0.000000\u003c/td\u003e\n    \u003c/tr\u003e\n    \u003ctr\u003e\n      \u003cth\u003e15\u003c/th\u003e\n      \u003ctd\u003eRomain\u003c/td\u003e\n      \u003ctd\u003eRomain\u003c/td\u003e\n      \u003ctd\u003e0.000000\u003c/td\u003e\n    \u003c/tr\u003e\n  \u003c/tbody\u003e\n\u003c/table\u003e\n\u003c/div\u003e"
          },
          "metadata": {}
        }
      ]
    },
    {
      "execution_count": 34,
      "cell_type": "code",
      "metadata": {},
      "source": [
        "pd.style.background_gradient(cmap \u003d\u0027RdYlBu\u0027)\\\n        .set_properties(**{\u0027font-size\u0027: \u002714px\u0027})"
      ],
      "outputs": [
        {
          "output_type": "execute_result",
          "execution_count": 34,
          "data": {
            "text/plain": "\u003cpandas.io.formats.style.Styler at 0x7fbda202ded0\u003e",
            "text/html": "\u003cstyle type\u003d\"text/css\"\u003e\n#T_8a444_row0_col0, #T_8a444_row0_col1, #T_8a444_row1_col0, #T_8a444_row1_col1, #T_8a444_row2_col0, #T_8a444_row2_col1, #T_8a444_row3_col0, #T_8a444_row3_col1, #T_8a444_row4_col0, #T_8a444_row4_col1, #T_8a444_row5_col0, #T_8a444_row5_col1, #T_8a444_row6_col0, #T_8a444_row6_col1, #T_8a444_row7_col0, #T_8a444_row7_col1, #T_8a444_row8_col0, #T_8a444_row8_col1, #T_8a444_row9_col0, #T_8a444_row9_col1, #T_8a444_row10_col0, #T_8a444_row10_col1, #T_8a444_row11_col0, #T_8a444_row11_col1, #T_8a444_row12_col0, #T_8a444_row12_col1, #T_8a444_row13_col0, #T_8a444_row13_col1, #T_8a444_row14_col0, #T_8a444_row14_col1, #T_8a444_row15_col0, #T_8a444_row15_col1 {\n  font-size: 14px;\n}\n#T_8a444_row0_col2, #T_8a444_row3_col2, #T_8a444_row5_col2, #T_8a444_row10_col2, #T_8a444_row11_col2, #T_8a444_row12_col2, #T_8a444_row14_col2, #T_8a444_row15_col2 {\n  background-color: #a50026;\n  color: #f1f1f1;\n  font-size: 14px;\n}\n#T_8a444_row1_col2, #T_8a444_row4_col2, #T_8a444_row6_col2, #T_8a444_row7_col2, #T_8a444_row9_col2, #T_8a444_row13_col2 {\n  background-color: #fdbf71;\n  color: #000000;\n  font-size: 14px;\n}\n#T_8a444_row2_col2, #T_8a444_row8_col2 {\n  background-color: #313695;\n  color: #f1f1f1;\n  font-size: 14px;\n}\n\u003c/style\u003e\n\u003ctable id\u003d\"T_8a444_\"\u003e\n  \u003cthead\u003e\n    \u003ctr\u003e\n      \u003cth class\u003d\"blank level0\" \u003e\u0026nbsp;\u003c/th\u003e\n      \u003cth class\u003d\"col_heading level0 col0\" \u003eperson1\u003c/th\u003e\n      \u003cth class\u003d\"col_heading level0 col1\" \u003eperson2\u003c/th\u003e\n      \u003cth class\u003d\"col_heading level0 col2\" \u003escore\u003c/th\u003e\n    \u003c/tr\u003e\n  \u003c/thead\u003e\n  \u003ctbody\u003e\n    \u003ctr\u003e\n      \u003cth id\u003d\"T_8a444_level0_row0\" class\u003d\"row_heading level0 row0\" \u003e0\u003c/th\u003e\n      \u003ctd id\u003d\"T_8a444_row0_col0\" class\u003d\"data row0 col0\" \u003eNicolas\u003c/td\u003e\n      \u003ctd id\u003d\"T_8a444_row0_col1\" class\u003d\"data row0 col1\" \u003eNicolas\u003c/td\u003e\n      \u003ctd id\u003d\"T_8a444_row0_col2\" class\u003d\"data row0 col2\" \u003e0.000000\u003c/td\u003e\n    \u003c/tr\u003e\n    \u003ctr\u003e\n      \u003cth id\u003d\"T_8a444_level0_row1\" class\u003d\"row_heading level0 row1\" \u003e1\u003c/th\u003e\n      \u003ctd id\u003d\"T_8a444_row1_col0\" class\u003d\"data row1 col0\" \u003eNicolas\u003c/td\u003e\n      \u003ctd id\u003d\"T_8a444_row1_col1\" class\u003d\"data row1 col1\" \u003ePierre\u003c/td\u003e\n      \u003ctd id\u003d\"T_8a444_row1_col2\" class\u003d\"data row1 col2\" \u003e0.333333\u003c/td\u003e\n    \u003c/tr\u003e\n    \u003ctr\u003e\n      \u003cth id\u003d\"T_8a444_level0_row2\" class\u003d\"row_heading level0 row2\" \u003e2\u003c/th\u003e\n      \u003ctd id\u003d\"T_8a444_row2_col0\" class\u003d\"data row2 col0\" \u003eNicolas\u003c/td\u003e\n      \u003ctd id\u003d\"T_8a444_row2_col1\" class\u003d\"data row2 col1\" \u003eEva\u003c/td\u003e\n      \u003ctd id\u003d\"T_8a444_row2_col2\" class\u003d\"data row2 col2\" \u003e1.000000\u003c/td\u003e\n    \u003c/tr\u003e\n    \u003ctr\u003e\n      \u003cth id\u003d\"T_8a444_level0_row3\" class\u003d\"row_heading level0 row3\" \u003e3\u003c/th\u003e\n      \u003ctd id\u003d\"T_8a444_row3_col0\" class\u003d\"data row3 col0\" \u003eNicolas\u003c/td\u003e\n      \u003ctd id\u003d\"T_8a444_row3_col1\" class\u003d\"data row3 col1\" \u003eRomain\u003c/td\u003e\n      \u003ctd id\u003d\"T_8a444_row3_col2\" class\u003d\"data row3 col2\" \u003e0.000000\u003c/td\u003e\n    \u003c/tr\u003e\n    \u003ctr\u003e\n      \u003cth id\u003d\"T_8a444_level0_row4\" class\u003d\"row_heading level0 row4\" \u003e4\u003c/th\u003e\n      \u003ctd id\u003d\"T_8a444_row4_col0\" class\u003d\"data row4 col0\" \u003ePierre\u003c/td\u003e\n      \u003ctd id\u003d\"T_8a444_row4_col1\" class\u003d\"data row4 col1\" \u003eNicolas\u003c/td\u003e\n      \u003ctd id\u003d\"T_8a444_row4_col2\" class\u003d\"data row4 col2\" \u003e0.333333\u003c/td\u003e\n    \u003c/tr\u003e\n    \u003ctr\u003e\n      \u003cth id\u003d\"T_8a444_level0_row5\" class\u003d\"row_heading level0 row5\" \u003e5\u003c/th\u003e\n      \u003ctd id\u003d\"T_8a444_row5_col0\" class\u003d\"data row5 col0\" \u003ePierre\u003c/td\u003e\n      \u003ctd id\u003d\"T_8a444_row5_col1\" class\u003d\"data row5 col1\" \u003ePierre\u003c/td\u003e\n      \u003ctd id\u003d\"T_8a444_row5_col2\" class\u003d\"data row5 col2\" \u003e0.000000\u003c/td\u003e\n    \u003c/tr\u003e\n    \u003ctr\u003e\n      \u003cth id\u003d\"T_8a444_level0_row6\" class\u003d\"row_heading level0 row6\" \u003e6\u003c/th\u003e\n      \u003ctd id\u003d\"T_8a444_row6_col0\" class\u003d\"data row6 col0\" \u003ePierre\u003c/td\u003e\n      \u003ctd id\u003d\"T_8a444_row6_col1\" class\u003d\"data row6 col1\" \u003eEva\u003c/td\u003e\n      \u003ctd id\u003d\"T_8a444_row6_col2\" class\u003d\"data row6 col2\" \u003e0.333333\u003c/td\u003e\n    \u003c/tr\u003e\n    \u003ctr\u003e\n      \u003cth id\u003d\"T_8a444_level0_row7\" class\u003d\"row_heading level0 row7\" \u003e7\u003c/th\u003e\n      \u003ctd id\u003d\"T_8a444_row7_col0\" class\u003d\"data row7 col0\" \u003ePierre\u003c/td\u003e\n      \u003ctd id\u003d\"T_8a444_row7_col1\" class\u003d\"data row7 col1\" \u003eRomain\u003c/td\u003e\n      \u003ctd id\u003d\"T_8a444_row7_col2\" class\u003d\"data row7 col2\" \u003e0.333333\u003c/td\u003e\n    \u003c/tr\u003e\n    \u003ctr\u003e\n      \u003cth id\u003d\"T_8a444_level0_row8\" class\u003d\"row_heading level0 row8\" \u003e8\u003c/th\u003e\n      \u003ctd id\u003d\"T_8a444_row8_col0\" class\u003d\"data row8 col0\" \u003eEva\u003c/td\u003e\n      \u003ctd id\u003d\"T_8a444_row8_col1\" class\u003d\"data row8 col1\" \u003eNicolas\u003c/td\u003e\n      \u003ctd id\u003d\"T_8a444_row8_col2\" class\u003d\"data row8 col2\" \u003e1.000000\u003c/td\u003e\n    \u003c/tr\u003e\n    \u003ctr\u003e\n      \u003cth id\u003d\"T_8a444_level0_row9\" class\u003d\"row_heading level0 row9\" \u003e9\u003c/th\u003e\n      \u003ctd id\u003d\"T_8a444_row9_col0\" class\u003d\"data row9 col0\" \u003eEva\u003c/td\u003e\n      \u003ctd id\u003d\"T_8a444_row9_col1\" class\u003d\"data row9 col1\" \u003ePierre\u003c/td\u003e\n      \u003ctd id\u003d\"T_8a444_row9_col2\" class\u003d\"data row9 col2\" \u003e0.333333\u003c/td\u003e\n    \u003c/tr\u003e\n    \u003ctr\u003e\n      \u003cth id\u003d\"T_8a444_level0_row10\" class\u003d\"row_heading level0 row10\" \u003e10\u003c/th\u003e\n      \u003ctd id\u003d\"T_8a444_row10_col0\" class\u003d\"data row10 col0\" \u003eEva\u003c/td\u003e\n      \u003ctd id\u003d\"T_8a444_row10_col1\" class\u003d\"data row10 col1\" \u003eEva\u003c/td\u003e\n      \u003ctd id\u003d\"T_8a444_row10_col2\" class\u003d\"data row10 col2\" \u003e0.000000\u003c/td\u003e\n    \u003c/tr\u003e\n    \u003ctr\u003e\n      \u003cth id\u003d\"T_8a444_level0_row11\" class\u003d\"row_heading level0 row11\" \u003e11\u003c/th\u003e\n      \u003ctd id\u003d\"T_8a444_row11_col0\" class\u003d\"data row11 col0\" \u003eEva\u003c/td\u003e\n      \u003ctd id\u003d\"T_8a444_row11_col1\" class\u003d\"data row11 col1\" \u003eRomain\u003c/td\u003e\n      \u003ctd id\u003d\"T_8a444_row11_col2\" class\u003d\"data row11 col2\" \u003e0.000000\u003c/td\u003e\n    \u003c/tr\u003e\n    \u003ctr\u003e\n      \u003cth id\u003d\"T_8a444_level0_row12\" class\u003d\"row_heading level0 row12\" \u003e12\u003c/th\u003e\n      \u003ctd id\u003d\"T_8a444_row12_col0\" class\u003d\"data row12 col0\" \u003eRomain\u003c/td\u003e\n      \u003ctd id\u003d\"T_8a444_row12_col1\" class\u003d\"data row12 col1\" \u003eNicolas\u003c/td\u003e\n      \u003ctd id\u003d\"T_8a444_row12_col2\" class\u003d\"data row12 col2\" \u003e0.000000\u003c/td\u003e\n    \u003c/tr\u003e\n    \u003ctr\u003e\n      \u003cth id\u003d\"T_8a444_level0_row13\" class\u003d\"row_heading level0 row13\" \u003e13\u003c/th\u003e\n      \u003ctd id\u003d\"T_8a444_row13_col0\" class\u003d\"data row13 col0\" \u003eRomain\u003c/td\u003e\n      \u003ctd id\u003d\"T_8a444_row13_col1\" class\u003d\"data row13 col1\" \u003ePierre\u003c/td\u003e\n      \u003ctd id\u003d\"T_8a444_row13_col2\" class\u003d\"data row13 col2\" \u003e0.333333\u003c/td\u003e\n    \u003c/tr\u003e\n    \u003ctr\u003e\n      \u003cth id\u003d\"T_8a444_level0_row14\" class\u003d\"row_heading level0 row14\" \u003e14\u003c/th\u003e\n      \u003ctd id\u003d\"T_8a444_row14_col0\" class\u003d\"data row14 col0\" \u003eRomain\u003c/td\u003e\n      \u003ctd id\u003d\"T_8a444_row14_col1\" class\u003d\"data row14 col1\" \u003eEva\u003c/td\u003e\n      \u003ctd id\u003d\"T_8a444_row14_col2\" class\u003d\"data row14 col2\" \u003e0.000000\u003c/td\u003e\n    \u003c/tr\u003e\n    \u003ctr\u003e\n      \u003cth id\u003d\"T_8a444_level0_row15\" class\u003d\"row_heading level0 row15\" \u003e15\u003c/th\u003e\n      \u003ctd id\u003d\"T_8a444_row15_col0\" class\u003d\"data row15 col0\" \u003eRomain\u003c/td\u003e\n      \u003ctd id\u003d\"T_8a444_row15_col1\" class\u003d\"data row15 col1\" \u003eRomain\u003c/td\u003e\n      \u003ctd id\u003d\"T_8a444_row15_col2\" class\u003d\"data row15 col2\" \u003e0.000000\u003c/td\u003e\n    \u003c/tr\u003e\n  \u003c/tbody\u003e\n\u003c/table\u003e\n"
          },
          "metadata": {}
        }
      ]
    },
    {
      "execution_count": 0,
      "cell_type": "code",
      "metadata": {},
      "source": [
        "plt.scatter(df[\u0027person1\u0027], df[\u0027person2\u0027], s\u003ds,color\u003d\u0027red\u0027)"
      ],
      "outputs": []
    }
  ]
}