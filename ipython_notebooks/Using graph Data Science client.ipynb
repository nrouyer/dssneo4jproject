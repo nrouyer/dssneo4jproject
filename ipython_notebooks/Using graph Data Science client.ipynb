{
  "metadata": {
    "kernelspec": {
      "name": "python3",
      "display_name": "Python 3",
      "language": "python"
    },
    "creator": "admin",
    "createdOn": 1650898197503,
    "tags": [],
    "customFields": {},
    "hide_input": false,
    "language_info": {
      "name": "python",
      "version": "3.7.10",
      "mimetype": "text/x-python",
      "codemirror_mode": {
        "name": "ipython",
        "version": 3
      },
      "pygments_lexer": "ipython3",
      "nbconvert_exporter": "python",
      "file_extension": ".py"
    },
    "modifiedBy": "admin",
    "versionNumber": 1
  },
  "nbformat": 4,
  "nbformat_minor": 1,
  "cells": [
    {
      "execution_count": 26,
      "cell_type": "code",
      "metadata": {},
      "source": [
        "from graphdatascience import GraphDataScience\n\n# Configures the driver with AuraDS-recommended settings\ngds \u003d GraphDataScience(\n    \"neo4j+ssc://35.181.44.209:7687\",\n    auth\u003d(\"neo4j\", \"neo4jdss\")\n)\n\nprint(gds.version())"
      ],
      "outputs": [
        {
          "output_type": "stream",
          "text": "2.0.2\n",
          "name": "stdout"
        }
      ]
    },
    {
      "execution_count": 27,
      "cell_type": "code",
      "metadata": {},
      "source": [
        "# Sets database (if not default one)\ngds.set_database(\"wine\")"
      ],
      "outputs": []
    },
    {
      "execution_count": 8,
      "cell_type": "code",
      "metadata": {},
      "source": [
        "# Create a minimal similarity graph\ngds.run_cypher(\n  \"\"\"\n  WITH \u0027Trimbach, Pinot Gris Hommage Jeanne\u0027 AS wine1, \u0027Schieferkopf, Sylvaner\u0027 AS wine2, \u0027Hugel, Cuvee des Eveques Riesling\u0027 AS wine3, \u0027Hugel, Tokay Pinot Gris Jubilee\u0027 AS wine4, \u0027Nicolas\u0027 AS person1, \u0027Pierre\u0027 AS person2, \u0027Eva\u0027 AS person3, \u0027Romain\u0027 AS person4\n  MATCH (w1:Wine) WHERE w1.DISPLAY_NAME \u003d wine1\n  MATCH (w2:Wine) WHERE w2.DISPLAY_NAME \u003d wine2\n  MATCH (w3:Wine) WHERE w3.DISPLAY_NAME \u003d wine3\n  MATCH (w4:Wine) WHERE w4.DISPLAY_NAME \u003d wine4\n  MERGE (p1:Person {name: person1})\n  MERGE (p2:Person {name: person2})\n  MERGE (p3:Person {name: person3})\n  MERGE (p4:Person {name: person4})\n  MERGE (p1)-[:LIKES]-\u003e(w1)\n  MERGE (p1)-[:LIKES]-\u003e(w2)\n  MERGE (p2)-[:LIKES]-\u003e(w2)\n  MERGE (p2)-[:LIKES]-\u003e(w3)\n  MERGE (p3)-[:LIKES]-\u003e(w1)\n  MERGE (p3)-[:LIKES]-\u003e(w2)\n  MERGE (p4)-[:LIKES]-\u003e(w3)\n  MERGE (p4)-[:LIKES]-\u003e(w4)\n  \"\"\"\n)"
      ],
      "outputs": [
        {
          "output_type": "execute_result",
          "execution_count": 8,
          "data": {
            "text/plain": "Empty DataFrame\nColumns: []\nIndex: []",
            "text/html": "\u003cdiv\u003e\n\u003cstyle scoped\u003e\n    .dataframe tbody tr th:only-of-type {\n        vertical-align: middle;\n    }\n\n    .dataframe tbody tr th {\n        vertical-align: top;\n    }\n\n    .dataframe thead th {\n        text-align: right;\n    }\n\u003c/style\u003e\n\u003ctable border\u003d\"1\" class\u003d\"dataframe\"\u003e\n  \u003cthead\u003e\n    \u003ctr style\u003d\"text-align: right;\"\u003e\n      \u003cth\u003e\u003c/th\u003e\n    \u003c/tr\u003e\n  \u003c/thead\u003e\n  \u003ctbody\u003e\n  \u003c/tbody\u003e\n\u003c/table\u003e\n\u003c/div\u003e"
          },
          "metadata": {}
        }
      ]
    },
    {
      "execution_count": 9,
      "cell_type": "code",
      "metadata": {},
      "source": [
        "# Project the graph into the GDS Graph Catalog\n# We call the object representing the projected graph `G_wines`\nG_wines, res \u003d gds.graph.project(\"neo4j-wines\", [\"Person\", \"Wine\"], \"LIKES\")"
      ],
      "outputs": []
    },
    {
      "execution_count": 11,
      "cell_type": "code",
      "metadata": {},
      "source": [
        "n \u003d G_wines.node_count()"
      ],
      "outputs": []
    },
    {
      "execution_count": 12,
      "cell_type": "code",
      "metadata": {},
      "source": [
        "n"
      ],
      "outputs": [
        {
          "output_type": "execute_result",
          "execution_count": 12,
          "data": {
            "text/plain": "125218"
          },
          "metadata": {}
        }
      ]
    },
    {
      "execution_count": 15,
      "cell_type": "code",
      "metadata": {},
      "source": [
        "similarity_res \u003d gds.nodeSimilarity.write(\n    G_wines,                          #  Graph object\n    writeRelationshipType\u003d\"SIMILAR\",  #  Configuration parameters\n    writeProperty\u003d\"score\"\n)"
      ],
      "outputs": []
    },
    {
      "execution_count": 16,
      "cell_type": "code",
      "metadata": {},
      "source": [
        "similarity_res"
      ],
      "outputs": [
        {
          "output_type": "execute_result",
          "execution_count": 16,
          "data": {
            "text/plain": "preProcessingMillis                                                       0\ncomputeMillis                                                            55\nwriteMillis                                                              47\npostProcessingMillis                                                     -1\nnodesCompared                                                             4\nrelationshipsWritten                                                      8\nsimilarityDistribution    {\u0027p1\u0027: 0.3333320617675781, \u0027max\u0027: 1.0000057220...\nconfiguration             {\u0027topK\u0027: 10, \u0027writeConcurrency\u0027: 4, \u0027similarit...\nName: 0, dtype: object"
          },
          "metadata": {}
        }
      ]
    },
    {
      "execution_count": 30,
      "cell_type": "code",
      "metadata": {},
      "source": [
        "import pandas\nimport matplotlib.pyplot as plt"
      ],
      "outputs": []
    },
    {
      "execution_count": 28,
      "cell_type": "code",
      "metadata": {},
      "source": [
        "# get similarity matrix data frame from graph\n# Create a minimal similarity graph\npd \u003d gds.run_cypher(\n  \"\"\"\n  MATCH (p1:Person)\n  MATCH (p2:Person)\n  OPTIONAL MATCH (p1)-[s:SIMILAR]-\u003e(p2)\n  RETURN p1.name AS person1, p2.name AS person2, coalesce(s.score, 0) AS score\n  \"\"\"\n)"
      ],
      "outputs": []
    },
    {
      "execution_count": 29,
      "cell_type": "code",
      "metadata": {},
      "source": [
        "pd"
      ],
      "outputs": [
        {
          "output_type": "execute_result",
          "execution_count": 29,
          "data": {
            "text/plain": "    person1  person2     score\n0   Nicolas  Nicolas  0.000000\n1   Nicolas   Pierre  0.333333\n2   Nicolas      Eva  1.000000\n3   Nicolas   Romain  0.000000\n4    Pierre  Nicolas  0.333333\n5    Pierre   Pierre  0.000000\n6    Pierre      Eva  0.333333\n7    Pierre   Romain  0.333333\n8       Eva  Nicolas  1.000000\n9       Eva   Pierre  0.333333\n10      Eva      Eva  0.000000\n11      Eva   Romain  0.000000\n12   Romain  Nicolas  0.000000\n13   Romain   Pierre  0.333333\n14   Romain      Eva  0.000000\n15   Romain   Romain  0.000000",
            "text/html": "\u003cdiv\u003e\n\u003cstyle scoped\u003e\n    .dataframe tbody tr th:only-of-type {\n        vertical-align: middle;\n    }\n\n    .dataframe tbody tr th {\n        vertical-align: top;\n    }\n\n    .dataframe thead th {\n        text-align: right;\n    }\n\u003c/style\u003e\n\u003ctable border\u003d\"1\" class\u003d\"dataframe\"\u003e\n  \u003cthead\u003e\n    \u003ctr style\u003d\"text-align: right;\"\u003e\n      \u003cth\u003e\u003c/th\u003e\n      \u003cth\u003eperson1\u003c/th\u003e\n      \u003cth\u003eperson2\u003c/th\u003e\n      \u003cth\u003escore\u003c/th\u003e\n    \u003c/tr\u003e\n  \u003c/thead\u003e\n  \u003ctbody\u003e\n    \u003ctr\u003e\n      \u003cth\u003e0\u003c/th\u003e\n      \u003ctd\u003eNicolas\u003c/td\u003e\n      \u003ctd\u003eNicolas\u003c/td\u003e\n      \u003ctd\u003e0.000000\u003c/td\u003e\n    \u003c/tr\u003e\n    \u003ctr\u003e\n      \u003cth\u003e1\u003c/th\u003e\n      \u003ctd\u003eNicolas\u003c/td\u003e\n      \u003ctd\u003ePierre\u003c/td\u003e\n      \u003ctd\u003e0.333333\u003c/td\u003e\n    \u003c/tr\u003e\n    \u003ctr\u003e\n      \u003cth\u003e2\u003c/th\u003e\n      \u003ctd\u003eNicolas\u003c/td\u003e\n      \u003ctd\u003eEva\u003c/td\u003e\n      \u003ctd\u003e1.000000\u003c/td\u003e\n    \u003c/tr\u003e\n    \u003ctr\u003e\n      \u003cth\u003e3\u003c/th\u003e\n      \u003ctd\u003eNicolas\u003c/td\u003e\n      \u003ctd\u003eRomain\u003c/td\u003e\n      \u003ctd\u003e0.000000\u003c/td\u003e\n    \u003c/tr\u003e\n    \u003ctr\u003e\n      \u003cth\u003e4\u003c/th\u003e\n      \u003ctd\u003ePierre\u003c/td\u003e\n      \u003ctd\u003eNicolas\u003c/td\u003e\n      \u003ctd\u003e0.333333\u003c/td\u003e\n    \u003c/tr\u003e\n    \u003ctr\u003e\n      \u003cth\u003e5\u003c/th\u003e\n      \u003ctd\u003ePierre\u003c/td\u003e\n      \u003ctd\u003ePierre\u003c/td\u003e\n      \u003ctd\u003e0.000000\u003c/td\u003e\n    \u003c/tr\u003e\n    \u003ctr\u003e\n      \u003cth\u003e6\u003c/th\u003e\n      \u003ctd\u003ePierre\u003c/td\u003e\n      \u003ctd\u003eEva\u003c/td\u003e\n      \u003ctd\u003e0.333333\u003c/td\u003e\n    \u003c/tr\u003e\n    \u003ctr\u003e\n      \u003cth\u003e7\u003c/th\u003e\n      \u003ctd\u003ePierre\u003c/td\u003e\n      \u003ctd\u003eRomain\u003c/td\u003e\n      \u003ctd\u003e0.333333\u003c/td\u003e\n    \u003c/tr\u003e\n    \u003ctr\u003e\n      \u003cth\u003e8\u003c/th\u003e\n      \u003ctd\u003eEva\u003c/td\u003e\n      \u003ctd\u003eNicolas\u003c/td\u003e\n      \u003ctd\u003e1.000000\u003c/td\u003e\n    \u003c/tr\u003e\n    \u003ctr\u003e\n      \u003cth\u003e9\u003c/th\u003e\n      \u003ctd\u003eEva\u003c/td\u003e\n      \u003ctd\u003ePierre\u003c/td\u003e\n      \u003ctd\u003e0.333333\u003c/td\u003e\n    \u003c/tr\u003e\n    \u003ctr\u003e\n      \u003cth\u003e10\u003c/th\u003e\n      \u003ctd\u003eEva\u003c/td\u003e\n      \u003ctd\u003eEva\u003c/td\u003e\n      \u003ctd\u003e0.000000\u003c/td\u003e\n    \u003c/tr\u003e\n    \u003ctr\u003e\n      \u003cth\u003e11\u003c/th\u003e\n      \u003ctd\u003eEva\u003c/td\u003e\n      \u003ctd\u003eRomain\u003c/td\u003e\n      \u003ctd\u003e0.000000\u003c/td\u003e\n    \u003c/tr\u003e\n    \u003ctr\u003e\n      \u003cth\u003e12\u003c/th\u003e\n      \u003ctd\u003eRomain\u003c/td\u003e\n      \u003ctd\u003eNicolas\u003c/td\u003e\n      \u003ctd\u003e0.000000\u003c/td\u003e\n    \u003c/tr\u003e\n    \u003ctr\u003e\n      \u003cth\u003e13\u003c/th\u003e\n      \u003ctd\u003eRomain\u003c/td\u003e\n      \u003ctd\u003ePierre\u003c/td\u003e\n      \u003ctd\u003e0.333333\u003c/td\u003e\n    \u003c/tr\u003e\n    \u003ctr\u003e\n      \u003cth\u003e14\u003c/th\u003e\n      \u003ctd\u003eRomain\u003c/td\u003e\n      \u003ctd\u003eEva\u003c/td\u003e\n      \u003ctd\u003e0.000000\u003c/td\u003e\n    \u003c/tr\u003e\n    \u003ctr\u003e\n      \u003cth\u003e15\u003c/th\u003e\n      \u003ctd\u003eRomain\u003c/td\u003e\n      \u003ctd\u003eRomain\u003c/td\u003e\n      \u003ctd\u003e0.000000\u003c/td\u003e\n    \u003c/tr\u003e\n  \u003c/tbody\u003e\n\u003c/table\u003e\n\u003c/div\u003e"
          },
          "metadata": {}
        }
      ]
    },
    {
      "execution_count": 34,
      "cell_type": "code",
      "metadata": {},
      "source": [
        "pd.style.background_gradient(cmap \u003d\u0027RdYlBu\u0027)\\\n        .set_properties(**{\u0027font-size\u0027: \u002714px\u0027})"
      ],
      "outputs": [
        {
          "output_type": "execute_result",
          "execution_count": 34,
          "data": {
            "text/plain": "\u003cpandas.io.formats.style.Styler at 0x7fbda202ded0\u003e",
            "text/html": "\u003cstyle type\u003d\"text/css\"\u003e\n#T_8a444_row0_col0, #T_8a444_row0_col1, #T_8a444_row1_col0, #T_8a444_row1_col1, #T_8a444_row2_col0, #T_8a444_row2_col1, #T_8a444_row3_col0, #T_8a444_row3_col1, #T_8a444_row4_col0, #T_8a444_row4_col1, #T_8a444_row5_col0, #T_8a444_row5_col1, #T_8a444_row6_col0, #T_8a444_row6_col1, #T_8a444_row7_col0, #T_8a444_row7_col1, #T_8a444_row8_col0, #T_8a444_row8_col1, #T_8a444_row9_col0, #T_8a444_row9_col1, #T_8a444_row10_col0, #T_8a444_row10_col1, #T_8a444_row11_col0, #T_8a444_row11_col1, #T_8a444_row12_col0, #T_8a444_row12_col1, #T_8a444_row13_col0, #T_8a444_row13_col1, #T_8a444_row14_col0, #T_8a444_row14_col1, #T_8a444_row15_col0, #T_8a444_row15_col1 {\n  font-size: 14px;\n}\n#T_8a444_row0_col2, #T_8a444_row3_col2, #T_8a444_row5_col2, #T_8a444_row10_col2, #T_8a444_row11_col2, #T_8a444_row12_col2, #T_8a444_row14_col2, #T_8a444_row15_col2 {\n  background-color: #a50026;\n  color: #f1f1f1;\n  font-size: 14px;\n}\n#T_8a444_row1_col2, #T_8a444_row4_col2, #T_8a444_row6_col2, #T_8a444_row7_col2, #T_8a444_row9_col2, #T_8a444_row13_col2 {\n  background-color: #fdbf71;\n  color: #000000;\n  font-size: 14px;\n}\n#T_8a444_row2_col2, #T_8a444_row8_col2 {\n  background-color: #313695;\n  color: #f1f1f1;\n  font-size: 14px;\n}\n\u003c/style\u003e\n\u003ctable id\u003d\"T_8a444_\"\u003e\n  \u003cthead\u003e\n    \u003ctr\u003e\n      \u003cth class\u003d\"blank level0\" \u003e\u0026nbsp;\u003c/th\u003e\n      \u003cth class\u003d\"col_heading level0 col0\" \u003eperson1\u003c/th\u003e\n      \u003cth class\u003d\"col_heading level0 col1\" \u003eperson2\u003c/th\u003e\n      \u003cth class\u003d\"col_heading level0 col2\" \u003escore\u003c/th\u003e\n    \u003c/tr\u003e\n  \u003c/thead\u003e\n  \u003ctbody\u003e\n    \u003ctr\u003e\n      \u003cth id\u003d\"T_8a444_level0_row0\" class\u003d\"row_heading level0 row0\" \u003e0\u003c/th\u003e\n      \u003ctd id\u003d\"T_8a444_row0_col0\" class\u003d\"data row0 col0\" \u003eNicolas\u003c/td\u003e\n      \u003ctd id\u003d\"T_8a444_row0_col1\" class\u003d\"data row0 col1\" \u003eNicolas\u003c/td\u003e\n      \u003ctd id\u003d\"T_8a444_row0_col2\" class\u003d\"data row0 col2\" \u003e0.000000\u003c/td\u003e\n    \u003c/tr\u003e\n    \u003ctr\u003e\n      \u003cth id\u003d\"T_8a444_level0_row1\" class\u003d\"row_heading level0 row1\" \u003e1\u003c/th\u003e\n      \u003ctd id\u003d\"T_8a444_row1_col0\" class\u003d\"data row1 col0\" \u003eNicolas\u003c/td\u003e\n      \u003ctd id\u003d\"T_8a444_row1_col1\" class\u003d\"data row1 col1\" \u003ePierre\u003c/td\u003e\n      \u003ctd id\u003d\"T_8a444_row1_col2\" class\u003d\"data row1 col2\" \u003e0.333333\u003c/td\u003e\n    \u003c/tr\u003e\n    \u003ctr\u003e\n      \u003cth id\u003d\"T_8a444_level0_row2\" class\u003d\"row_heading level0 row2\" \u003e2\u003c/th\u003e\n      \u003ctd id\u003d\"T_8a444_row2_col0\" class\u003d\"data row2 col0\" \u003eNicolas\u003c/td\u003e\n      \u003ctd id\u003d\"T_8a444_row2_col1\" class\u003d\"data row2 col1\" \u003eEva\u003c/td\u003e\n      \u003ctd id\u003d\"T_8a444_row2_col2\" class\u003d\"data row2 col2\" \u003e1.000000\u003c/td\u003e\n    \u003c/tr\u003e\n    \u003ctr\u003e\n      \u003cth id\u003d\"T_8a444_level0_row3\" class\u003d\"row_heading level0 row3\" \u003e3\u003c/th\u003e\n      \u003ctd id\u003d\"T_8a444_row3_col0\" class\u003d\"data row3 col0\" \u003eNicolas\u003c/td\u003e\n      \u003ctd id\u003d\"T_8a444_row3_col1\" class\u003d\"data row3 col1\" \u003eRomain\u003c/td\u003e\n      \u003ctd id\u003d\"T_8a444_row3_col2\" class\u003d\"data row3 col2\" \u003e0.000000\u003c/td\u003e\n    \u003c/tr\u003e\n    \u003ctr\u003e\n      \u003cth id\u003d\"T_8a444_level0_row4\" class\u003d\"row_heading level0 row4\" \u003e4\u003c/th\u003e\n      \u003ctd id\u003d\"T_8a444_row4_col0\" class\u003d\"data row4 col0\" \u003ePierre\u003c/td\u003e\n      \u003ctd id\u003d\"T_8a444_row4_col1\" class\u003d\"data row4 col1\" \u003eNicolas\u003c/td\u003e\n      \u003ctd id\u003d\"T_8a444_row4_col2\" class\u003d\"data row4 col2\" \u003e0.333333\u003c/td\u003e\n    \u003c/tr\u003e\n    \u003ctr\u003e\n      \u003cth id\u003d\"T_8a444_level0_row5\" class\u003d\"row_heading level0 row5\" \u003e5\u003c/th\u003e\n      \u003ctd id\u003d\"T_8a444_row5_col0\" class\u003d\"data row5 col0\" \u003ePierre\u003c/td\u003e\n      \u003ctd id\u003d\"T_8a444_row5_col1\" class\u003d\"data row5 col1\" \u003ePierre\u003c/td\u003e\n      \u003ctd id\u003d\"T_8a444_row5_col2\" class\u003d\"data row5 col2\" \u003e0.000000\u003c/td\u003e\n    \u003c/tr\u003e\n    \u003ctr\u003e\n      \u003cth id\u003d\"T_8a444_level0_row6\" class\u003d\"row_heading level0 row6\" \u003e6\u003c/th\u003e\n      \u003ctd id\u003d\"T_8a444_row6_col0\" class\u003d\"data row6 col0\" \u003ePierre\u003c/td\u003e\n      \u003ctd id\u003d\"T_8a444_row6_col1\" class\u003d\"data row6 col1\" \u003eEva\u003c/td\u003e\n      \u003ctd id\u003d\"T_8a444_row6_col2\" class\u003d\"data row6 col2\" \u003e0.333333\u003c/td\u003e\n    \u003c/tr\u003e\n    \u003ctr\u003e\n      \u003cth id\u003d\"T_8a444_level0_row7\" class\u003d\"row_heading level0 row7\" \u003e7\u003c/th\u003e\n      \u003ctd id\u003d\"T_8a444_row7_col0\" class\u003d\"data row7 col0\" \u003ePierre\u003c/td\u003e\n      \u003ctd id\u003d\"T_8a444_row7_col1\" class\u003d\"data row7 col1\" \u003eRomain\u003c/td\u003e\n      \u003ctd id\u003d\"T_8a444_row7_col2\" class\u003d\"data row7 col2\" \u003e0.333333\u003c/td\u003e\n    \u003c/tr\u003e\n    \u003ctr\u003e\n      \u003cth id\u003d\"T_8a444_level0_row8\" class\u003d\"row_heading level0 row8\" \u003e8\u003c/th\u003e\n      \u003ctd id\u003d\"T_8a444_row8_col0\" class\u003d\"data row8 col0\" \u003eEva\u003c/td\u003e\n      \u003ctd id\u003d\"T_8a444_row8_col1\" class\u003d\"data row8 col1\" \u003eNicolas\u003c/td\u003e\n      \u003ctd id\u003d\"T_8a444_row8_col2\" class\u003d\"data row8 col2\" \u003e1.000000\u003c/td\u003e\n    \u003c/tr\u003e\n    \u003ctr\u003e\n      \u003cth id\u003d\"T_8a444_level0_row9\" class\u003d\"row_heading level0 row9\" \u003e9\u003c/th\u003e\n      \u003ctd id\u003d\"T_8a444_row9_col0\" class\u003d\"data row9 col0\" \u003eEva\u003c/td\u003e\n      \u003ctd id\u003d\"T_8a444_row9_col1\" class\u003d\"data row9 col1\" \u003ePierre\u003c/td\u003e\n      \u003ctd id\u003d\"T_8a444_row9_col2\" class\u003d\"data row9 col2\" \u003e0.333333\u003c/td\u003e\n    \u003c/tr\u003e\n    \u003ctr\u003e\n      \u003cth id\u003d\"T_8a444_level0_row10\" class\u003d\"row_heading level0 row10\" \u003e10\u003c/th\u003e\n      \u003ctd id\u003d\"T_8a444_row10_col0\" class\u003d\"data row10 col0\" \u003eEva\u003c/td\u003e\n      \u003ctd id\u003d\"T_8a444_row10_col1\" class\u003d\"data row10 col1\" \u003eEva\u003c/td\u003e\n      \u003ctd id\u003d\"T_8a444_row10_col2\" class\u003d\"data row10 col2\" \u003e0.000000\u003c/td\u003e\n    \u003c/tr\u003e\n    \u003ctr\u003e\n      \u003cth id\u003d\"T_8a444_level0_row11\" class\u003d\"row_heading level0 row11\" \u003e11\u003c/th\u003e\n      \u003ctd id\u003d\"T_8a444_row11_col0\" class\u003d\"data row11 col0\" \u003eEva\u003c/td\u003e\n      \u003ctd id\u003d\"T_8a444_row11_col1\" class\u003d\"data row11 col1\" \u003eRomain\u003c/td\u003e\n      \u003ctd id\u003d\"T_8a444_row11_col2\" class\u003d\"data row11 col2\" \u003e0.000000\u003c/td\u003e\n    \u003c/tr\u003e\n    \u003ctr\u003e\n      \u003cth id\u003d\"T_8a444_level0_row12\" class\u003d\"row_heading level0 row12\" \u003e12\u003c/th\u003e\n      \u003ctd id\u003d\"T_8a444_row12_col0\" class\u003d\"data row12 col0\" \u003eRomain\u003c/td\u003e\n      \u003ctd id\u003d\"T_8a444_row12_col1\" class\u003d\"data row12 col1\" \u003eNicolas\u003c/td\u003e\n      \u003ctd id\u003d\"T_8a444_row12_col2\" class\u003d\"data row12 col2\" \u003e0.000000\u003c/td\u003e\n    \u003c/tr\u003e\n    \u003ctr\u003e\n      \u003cth id\u003d\"T_8a444_level0_row13\" class\u003d\"row_heading level0 row13\" \u003e13\u003c/th\u003e\n      \u003ctd id\u003d\"T_8a444_row13_col0\" class\u003d\"data row13 col0\" \u003eRomain\u003c/td\u003e\n      \u003ctd id\u003d\"T_8a444_row13_col1\" class\u003d\"data row13 col1\" \u003ePierre\u003c/td\u003e\n      \u003ctd id\u003d\"T_8a444_row13_col2\" class\u003d\"data row13 col2\" \u003e0.333333\u003c/td\u003e\n    \u003c/tr\u003e\n    \u003ctr\u003e\n      \u003cth id\u003d\"T_8a444_level0_row14\" class\u003d\"row_heading level0 row14\" \u003e14\u003c/th\u003e\n      \u003ctd id\u003d\"T_8a444_row14_col0\" class\u003d\"data row14 col0\" \u003eRomain\u003c/td\u003e\n      \u003ctd id\u003d\"T_8a444_row14_col1\" class\u003d\"data row14 col1\" \u003eEva\u003c/td\u003e\n      \u003ctd id\u003d\"T_8a444_row14_col2\" class\u003d\"data row14 col2\" \u003e0.000000\u003c/td\u003e\n    \u003c/tr\u003e\n    \u003ctr\u003e\n      \u003cth id\u003d\"T_8a444_level0_row15\" class\u003d\"row_heading level0 row15\" \u003e15\u003c/th\u003e\n      \u003ctd id\u003d\"T_8a444_row15_col0\" class\u003d\"data row15 col0\" \u003eRomain\u003c/td\u003e\n      \u003ctd id\u003d\"T_8a444_row15_col1\" class\u003d\"data row15 col1\" \u003eRomain\u003c/td\u003e\n      \u003ctd id\u003d\"T_8a444_row15_col2\" class\u003d\"data row15 col2\" \u003e0.000000\u003c/td\u003e\n    \u003c/tr\u003e\n  \u003c/tbody\u003e\n\u003c/table\u003e\n"
          },
          "metadata": {}
        }
      ]
    },
    {
      "execution_count": 55,
      "cell_type": "code",
      "metadata": {},
      "source": [
        "plt.scatter(pd[\u0027person1\u0027], pd[\u0027person2\u0027], s\u003dpd[\u0027score\u0027], cmap\u003d\u0027RdBu\u0027, linewidths \u003d 15)\nplt.xlabel(\"Personne\")\nplt.ylabel(\"Personne\")\nplt.show()"
      ],
      "outputs": [
        {
          "output_type": "display_data",
          "data": {
            "text/plain": "\u003cFigure size 432x288 with 1 Axes\u003e",
            "image/png": "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\u003d\u003d\n"
          },
          "metadata": {}
        }
      ]
    },
    {
      "execution_count": 40,
      "cell_type": "code",
      "metadata": {},
      "source": [
        "plt.show()"
      ],
      "outputs": []
    },
    {
      "execution_count": 0,
      "cell_type": "code",
      "metadata": {},
      "source": [
        ""
      ],
      "outputs": []
    }
  ]
}