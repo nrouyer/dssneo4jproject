{
  "metadata": {
    "kernelspec": {
      "name": "python3",
      "display_name": "Python 3",
      "language": "python"
    },
    "creator": "admin",
    "createdOn": 1650898197503,
    "tags": [],
    "customFields": {},
    "hide_input": false,
    "language_info": {
      "name": "python",
      "version": "3.7.10",
      "mimetype": "text/x-python",
      "codemirror_mode": {
        "name": "ipython",
        "version": 3
      },
      "pygments_lexer": "ipython3",
      "nbconvert_exporter": "python",
      "file_extension": ".py"
    },
    "modifiedBy": "admin",
    "versionNumber": 1
  },
  "nbformat": 4,
  "nbformat_minor": 1,
  "cells": [
    {
      "execution_count": 26,
      "cell_type": "code",
      "metadata": {},
      "source": [
        "from graphdatascience import GraphDataScience\n\n# Configures the driver with AuraDS-recommended settings\ngds \u003d GraphDataScience(\n    \"neo4j+ssc://35.181.44.209:7687\",\n    auth\u003d(\"neo4j\", \"neo4jdss\")\n)\n\nprint(gds.version())"
      ],
      "outputs": [
        {
          "output_type": "stream",
          "text": "2.0.2\n",
          "name": "stdout"
        }
      ]
    },
    {
      "execution_count": 27,
      "cell_type": "code",
      "metadata": {},
      "source": [
        "# Sets database (if not default one)\ngds.set_database(\"wine\")"
      ],
      "outputs": []
    },
    {
      "execution_count": 8,
      "cell_type": "code",
      "metadata": {},
      "source": [
        "# Create a minimal similarity graph\ngds.run_cypher(\n  \"\"\"\n  WITH \u0027Trimbach, Pinot Gris Hommage Jeanne\u0027 AS wine1, \u0027Schieferkopf, Sylvaner\u0027 AS wine2, \u0027Hugel, Cuvee des Eveques Riesling\u0027 AS wine3, \u0027Hugel, Tokay Pinot Gris Jubilee\u0027 AS wine4, \u0027Nicolas\u0027 AS person1, \u0027Pierre\u0027 AS person2, \u0027Eva\u0027 AS person3, \u0027Romain\u0027 AS person4\n  MATCH (w1:Wine) WHERE w1.DISPLAY_NAME \u003d wine1\n  MATCH (w2:Wine) WHERE w2.DISPLAY_NAME \u003d wine2\n  MATCH (w3:Wine) WHERE w3.DISPLAY_NAME \u003d wine3\n  MATCH (w4:Wine) WHERE w4.DISPLAY_NAME \u003d wine4\n  MERGE (p1:Person {name: person1})\n  MERGE (p2:Person {name: person2})\n  MERGE (p3:Person {name: person3})\n  MERGE (p4:Person {name: person4})\n  MERGE (p1)-[:LIKES]-\u003e(w1)\n  MERGE (p1)-[:LIKES]-\u003e(w2)\n  MERGE (p2)-[:LIKES]-\u003e(w2)\n  MERGE (p2)-[:LIKES]-\u003e(w3)\n  MERGE (p3)-[:LIKES]-\u003e(w1)\n  MERGE (p3)-[:LIKES]-\u003e(w2)\n  MERGE (p4)-[:LIKES]-\u003e(w3)\n  MERGE (p4)-[:LIKES]-\u003e(w4)\n  \"\"\"\n)"
      ],
      "outputs": [
        {
          "output_type": "execute_result",
          "execution_count": 8,
          "data": {
            "text/plain": "Empty DataFrame\nColumns: []\nIndex: []",
            "text/html": "\u003cdiv\u003e\n\u003cstyle scoped\u003e\n    .dataframe tbody tr th:only-of-type {\n        vertical-align: middle;\n    }\n\n    .dataframe tbody tr th {\n        vertical-align: top;\n    }\n\n    .dataframe thead th {\n        text-align: right;\n    }\n\u003c/style\u003e\n\u003ctable border\u003d\"1\" class\u003d\"dataframe\"\u003e\n  \u003cthead\u003e\n    \u003ctr style\u003d\"text-align: right;\"\u003e\n      \u003cth\u003e\u003c/th\u003e\n    \u003c/tr\u003e\n  \u003c/thead\u003e\n  \u003ctbody\u003e\n  \u003c/tbody\u003e\n\u003c/table\u003e\n\u003c/div\u003e"
          },
          "metadata": {}
        }
      ]
    },
    {
      "execution_count": 9,
      "cell_type": "code",
      "metadata": {},
      "source": [
        "# Project the graph into the GDS Graph Catalog\n# We call the object representing the projected graph `G_wines`\nG_wines, res \u003d gds.graph.project(\"neo4j-wines\", [\"Person\", \"Wine\"], \"LIKES\")"
      ],
      "outputs": []
    },
    {
      "execution_count": 11,
      "cell_type": "code",
      "metadata": {},
      "source": [
        "n \u003d G_wines.node_count()"
      ],
      "outputs": []
    },
    {
      "execution_count": 12,
      "cell_type": "code",
      "metadata": {},
      "source": [
        "n"
      ],
      "outputs": [
        {
          "output_type": "execute_result",
          "execution_count": 12,
          "data": {
            "text/plain": "125218"
          },
          "metadata": {}
        }
      ]
    },
    {
      "execution_count": 15,
      "cell_type": "code",
      "metadata": {},
      "source": [
        "similarity_res \u003d gds.nodeSimilarity.write(\n    G_wines,                          #  Graph object\n    writeRelationshipType\u003d\"SIMILAR\",  #  Configuration parameters\n    writeProperty\u003d\"score\"\n)"
      ],
      "outputs": []
    },
    {
      "execution_count": 16,
      "cell_type": "code",
      "metadata": {},
      "source": [
        "similarity_res"
      ],
      "outputs": [
        {
          "output_type": "execute_result",
          "execution_count": 16,
          "data": {
            "text/plain": "preProcessingMillis                                                       0\ncomputeMillis                                                            55\nwriteMillis                                                              47\npostProcessingMillis                                                     -1\nnodesCompared                                                             4\nrelationshipsWritten                                                      8\nsimilarityDistribution    {\u0027p1\u0027: 0.3333320617675781, \u0027max\u0027: 1.0000057220...\nconfiguration             {\u0027topK\u0027: 10, \u0027writeConcurrency\u0027: 4, \u0027similarit...\nName: 0, dtype: object"
          },
          "metadata": {}
        }
      ]
    },
    {
      "execution_count": 30,
      "cell_type": "code",
      "metadata": {},
      "source": [
        "import pandas\nimport matplotlib.pyplot as plt"
      ],
      "outputs": []
    },
    {
      "execution_count": 28,
      "cell_type": "code",
      "metadata": {},
      "source": [
        "# get similarity matrix data frame from graph\n# Create a minimal similarity graph\npd \u003d gds.run_cypher(\n  \"\"\"\n  MATCH (p1:Person)\n  MATCH (p2:Person)\n  OPTIONAL MATCH (p1)-[s:SIMILAR]-\u003e(p2)\n  RETURN p1.name AS person1, p2.name AS person2, coalesce(s.score, 0) AS score\n  \"\"\"\n)"
      ],
      "outputs": []
    },
    {
      "execution_count": 29,
      "cell_type": "code",
      "metadata": {},
      "source": [
        "pd"
      ],
      "outputs": [
        {
          "output_type": "execute_result",
          "execution_count": 29,
          "data": {
            "text/plain": "    person1  person2     score\n0   Nicolas  Nicolas  0.000000\n1   Nicolas   Pierre  0.333333\n2   Nicolas      Eva  1.000000\n3   Nicolas   Romain  0.000000\n4    Pierre  Nicolas  0.333333\n5    Pierre   Pierre  0.000000\n6    Pierre      Eva  0.333333\n7    Pierre   Romain  0.333333\n8       Eva  Nicolas  1.000000\n9       Eva   Pierre  0.333333\n10      Eva      Eva  0.000000\n11      Eva   Romain  0.000000\n12   Romain  Nicolas  0.000000\n13   Romain   Pierre  0.333333\n14   Romain      Eva  0.000000\n15   Romain   Romain  0.000000",
            "text/html": "\u003cdiv\u003e\n\u003cstyle scoped\u003e\n    .dataframe tbody tr th:only-of-type {\n        vertical-align: middle;\n    }\n\n    .dataframe tbody tr th {\n        vertical-align: top;\n    }\n\n    .dataframe thead th {\n        text-align: right;\n    }\n\u003c/style\u003e\n\u003ctable border\u003d\"1\" class\u003d\"dataframe\"\u003e\n  \u003cthead\u003e\n    \u003ctr style\u003d\"text-align: right;\"\u003e\n      \u003cth\u003e\u003c/th\u003e\n      \u003cth\u003eperson1\u003c/th\u003e\n      \u003cth\u003eperson2\u003c/th\u003e\n      \u003cth\u003escore\u003c/th\u003e\n    \u003c/tr\u003e\n  \u003c/thead\u003e\n  \u003ctbody\u003e\n    \u003ctr\u003e\n      \u003cth\u003e0\u003c/th\u003e\n      \u003ctd\u003eNicolas\u003c/td\u003e\n      \u003ctd\u003eNicolas\u003c/td\u003e\n      \u003ctd\u003e0.000000\u003c/td\u003e\n    \u003c/tr\u003e\n    \u003ctr\u003e\n      \u003cth\u003e1\u003c/th\u003e\n      \u003ctd\u003eNicolas\u003c/td\u003e\n      \u003ctd\u003ePierre\u003c/td\u003e\n      \u003ctd\u003e0.333333\u003c/td\u003e\n    \u003c/tr\u003e\n    \u003ctr\u003e\n      \u003cth\u003e2\u003c/th\u003e\n      \u003ctd\u003eNicolas\u003c/td\u003e\n      \u003ctd\u003eEva\u003c/td\u003e\n      \u003ctd\u003e1.000000\u003c/td\u003e\n    \u003c/tr\u003e\n    \u003ctr\u003e\n      \u003cth\u003e3\u003c/th\u003e\n      \u003ctd\u003eNicolas\u003c/td\u003e\n      \u003ctd\u003eRomain\u003c/td\u003e\n      \u003ctd\u003e0.000000\u003c/td\u003e\n    \u003c/tr\u003e\n    \u003ctr\u003e\n      \u003cth\u003e4\u003c/th\u003e\n      \u003ctd\u003ePierre\u003c/td\u003e\n      \u003ctd\u003eNicolas\u003c/td\u003e\n      \u003ctd\u003e0.333333\u003c/td\u003e\n    \u003c/tr\u003e\n    \u003ctr\u003e\n      \u003cth\u003e5\u003c/th\u003e\n      \u003ctd\u003ePierre\u003c/td\u003e\n      \u003ctd\u003ePierre\u003c/td\u003e\n      \u003ctd\u003e0.000000\u003c/td\u003e\n    \u003c/tr\u003e\n    \u003ctr\u003e\n      \u003cth\u003e6\u003c/th\u003e\n      \u003ctd\u003ePierre\u003c/td\u003e\n      \u003ctd\u003eEva\u003c/td\u003e\n      \u003ctd\u003e0.333333\u003c/td\u003e\n    \u003c/tr\u003e\n    \u003ctr\u003e\n      \u003cth\u003e7\u003c/th\u003e\n      \u003ctd\u003ePierre\u003c/td\u003e\n      \u003ctd\u003eRomain\u003c/td\u003e\n      \u003ctd\u003e0.333333\u003c/td\u003e\n    \u003c/tr\u003e\n    \u003ctr\u003e\n      \u003cth\u003e8\u003c/th\u003e\n      \u003ctd\u003eEva\u003c/td\u003e\n      \u003ctd\u003eNicolas\u003c/td\u003e\n      \u003ctd\u003e1.000000\u003c/td\u003e\n    \u003c/tr\u003e\n    \u003ctr\u003e\n      \u003cth\u003e9\u003c/th\u003e\n      \u003ctd\u003eEva\u003c/td\u003e\n      \u003ctd\u003ePierre\u003c/td\u003e\n      \u003ctd\u003e0.333333\u003c/td\u003e\n    \u003c/tr\u003e\n    \u003ctr\u003e\n      \u003cth\u003e10\u003c/th\u003e\n      \u003ctd\u003eEva\u003c/td\u003e\n      \u003ctd\u003eEva\u003c/td\u003e\n      \u003ctd\u003e0.000000\u003c/td\u003e\n    \u003c/tr\u003e\n    \u003ctr\u003e\n      \u003cth\u003e11\u003c/th\u003e\n      \u003ctd\u003eEva\u003c/td\u003e\n      \u003ctd\u003eRomain\u003c/td\u003e\n      \u003ctd\u003e0.000000\u003c/td\u003e\n    \u003c/tr\u003e\n    \u003ctr\u003e\n      \u003cth\u003e12\u003c/th\u003e\n      \u003ctd\u003eRomain\u003c/td\u003e\n      \u003ctd\u003eNicolas\u003c/td\u003e\n      \u003ctd\u003e0.000000\u003c/td\u003e\n    \u003c/tr\u003e\n    \u003ctr\u003e\n      \u003cth\u003e13\u003c/th\u003e\n      \u003ctd\u003eRomain\u003c/td\u003e\n      \u003ctd\u003ePierre\u003c/td\u003e\n      \u003ctd\u003e0.333333\u003c/td\u003e\n    \u003c/tr\u003e\n    \u003ctr\u003e\n      \u003cth\u003e14\u003c/th\u003e\n      \u003ctd\u003eRomain\u003c/td\u003e\n      \u003ctd\u003eEva\u003c/td\u003e\n      \u003ctd\u003e0.000000\u003c/td\u003e\n    \u003c/tr\u003e\n    \u003ctr\u003e\n      \u003cth\u003e15\u003c/th\u003e\n      \u003ctd\u003eRomain\u003c/td\u003e\n      \u003ctd\u003eRomain\u003c/td\u003e\n      \u003ctd\u003e0.000000\u003c/td\u003e\n    \u003c/tr\u003e\n  \u003c/tbody\u003e\n\u003c/table\u003e\n\u003c/div\u003e"
          },
          "metadata": {}
        }
      ]
    },
    {
      "execution_count": 34,
      "cell_type": "code",
      "metadata": {},
      "source": [
        "pd.style.background_gradient(cmap \u003d\u0027RdYlBu\u0027)\\\n        .set_properties(**{\u0027font-size\u0027: \u002714px\u0027})"
      ],
      "outputs": [
        {
          "output_type": "execute_result",
          "execution_count": 34,
          "data": {
            "text/plain": "\u003cpandas.io.formats.style.Styler at 0x7fbda202ded0\u003e",
            "text/html": "\u003cstyle type\u003d\"text/css\"\u003e\n#T_8a444_row0_col0, #T_8a444_row0_col1, #T_8a444_row1_col0, #T_8a444_row1_col1, #T_8a444_row2_col0, #T_8a444_row2_col1, #T_8a444_row3_col0, #T_8a444_row3_col1, #T_8a444_row4_col0, #T_8a444_row4_col1, #T_8a444_row5_col0, #T_8a444_row5_col1, #T_8a444_row6_col0, #T_8a444_row6_col1, #T_8a444_row7_col0, #T_8a444_row7_col1, #T_8a444_row8_col0, #T_8a444_row8_col1, #T_8a444_row9_col0, #T_8a444_row9_col1, #T_8a444_row10_col0, #T_8a444_row10_col1, #T_8a444_row11_col0, #T_8a444_row11_col1, #T_8a444_row12_col0, #T_8a444_row12_col1, #T_8a444_row13_col0, #T_8a444_row13_col1, #T_8a444_row14_col0, #T_8a444_row14_col1, #T_8a444_row15_col0, #T_8a444_row15_col1 {\n  font-size: 14px;\n}\n#T_8a444_row0_col2, #T_8a444_row3_col2, #T_8a444_row5_col2, #T_8a444_row10_col2, #T_8a444_row11_col2, #T_8a444_row12_col2, #T_8a444_row14_col2, #T_8a444_row15_col2 {\n  background-color: #a50026;\n  color: #f1f1f1;\n  font-size: 14px;\n}\n#T_8a444_row1_col2, #T_8a444_row4_col2, #T_8a444_row6_col2, #T_8a444_row7_col2, #T_8a444_row9_col2, #T_8a444_row13_col2 {\n  background-color: #fdbf71;\n  color: #000000;\n  font-size: 14px;\n}\n#T_8a444_row2_col2, #T_8a444_row8_col2 {\n  background-color: #313695;\n  color: #f1f1f1;\n  font-size: 14px;\n}\n\u003c/style\u003e\n\u003ctable id\u003d\"T_8a444_\"\u003e\n  \u003cthead\u003e\n    \u003ctr\u003e\n      \u003cth class\u003d\"blank level0\" \u003e\u0026nbsp;\u003c/th\u003e\n      \u003cth class\u003d\"col_heading level0 col0\" \u003eperson1\u003c/th\u003e\n      \u003cth class\u003d\"col_heading level0 col1\" \u003eperson2\u003c/th\u003e\n      \u003cth class\u003d\"col_heading level0 col2\" \u003escore\u003c/th\u003e\n    \u003c/tr\u003e\n  \u003c/thead\u003e\n  \u003ctbody\u003e\n    \u003ctr\u003e\n      \u003cth id\u003d\"T_8a444_level0_row0\" class\u003d\"row_heading level0 row0\" \u003e0\u003c/th\u003e\n      \u003ctd id\u003d\"T_8a444_row0_col0\" class\u003d\"data row0 col0\" \u003eNicolas\u003c/td\u003e\n      \u003ctd id\u003d\"T_8a444_row0_col1\" class\u003d\"data row0 col1\" \u003eNicolas\u003c/td\u003e\n      \u003ctd id\u003d\"T_8a444_row0_col2\" class\u003d\"data row0 col2\" \u003e0.000000\u003c/td\u003e\n    \u003c/tr\u003e\n    \u003ctr\u003e\n      \u003cth id\u003d\"T_8a444_level0_row1\" class\u003d\"row_heading level0 row1\" \u003e1\u003c/th\u003e\n      \u003ctd id\u003d\"T_8a444_row1_col0\" class\u003d\"data row1 col0\" \u003eNicolas\u003c/td\u003e\n      \u003ctd id\u003d\"T_8a444_row1_col1\" class\u003d\"data row1 col1\" \u003ePierre\u003c/td\u003e\n      \u003ctd id\u003d\"T_8a444_row1_col2\" class\u003d\"data row1 col2\" \u003e0.333333\u003c/td\u003e\n    \u003c/tr\u003e\n    \u003ctr\u003e\n      \u003cth id\u003d\"T_8a444_level0_row2\" class\u003d\"row_heading level0 row2\" \u003e2\u003c/th\u003e\n      \u003ctd id\u003d\"T_8a444_row2_col0\" class\u003d\"data row2 col0\" \u003eNicolas\u003c/td\u003e\n      \u003ctd id\u003d\"T_8a444_row2_col1\" class\u003d\"data row2 col1\" \u003eEva\u003c/td\u003e\n      \u003ctd id\u003d\"T_8a444_row2_col2\" class\u003d\"data row2 col2\" \u003e1.000000\u003c/td\u003e\n    \u003c/tr\u003e\n    \u003ctr\u003e\n      \u003cth id\u003d\"T_8a444_level0_row3\" class\u003d\"row_heading level0 row3\" \u003e3\u003c/th\u003e\n      \u003ctd id\u003d\"T_8a444_row3_col0\" class\u003d\"data row3 col0\" \u003eNicolas\u003c/td\u003e\n      \u003ctd id\u003d\"T_8a444_row3_col1\" class\u003d\"data row3 col1\" \u003eRomain\u003c/td\u003e\n      \u003ctd id\u003d\"T_8a444_row3_col2\" class\u003d\"data row3 col2\" \u003e0.000000\u003c/td\u003e\n    \u003c/tr\u003e\n    \u003ctr\u003e\n      \u003cth id\u003d\"T_8a444_level0_row4\" class\u003d\"row_heading level0 row4\" \u003e4\u003c/th\u003e\n      \u003ctd id\u003d\"T_8a444_row4_col0\" class\u003d\"data row4 col0\" \u003ePierre\u003c/td\u003e\n      \u003ctd id\u003d\"T_8a444_row4_col1\" class\u003d\"data row4 col1\" \u003eNicolas\u003c/td\u003e\n      \u003ctd id\u003d\"T_8a444_row4_col2\" class\u003d\"data row4 col2\" \u003e0.333333\u003c/td\u003e\n    \u003c/tr\u003e\n    \u003ctr\u003e\n      \u003cth id\u003d\"T_8a444_level0_row5\" class\u003d\"row_heading level0 row5\" \u003e5\u003c/th\u003e\n      \u003ctd id\u003d\"T_8a444_row5_col0\" class\u003d\"data row5 col0\" \u003ePierre\u003c/td\u003e\n      \u003ctd id\u003d\"T_8a444_row5_col1\" class\u003d\"data row5 col1\" \u003ePierre\u003c/td\u003e\n      \u003ctd id\u003d\"T_8a444_row5_col2\" class\u003d\"data row5 col2\" \u003e0.000000\u003c/td\u003e\n    \u003c/tr\u003e\n    \u003ctr\u003e\n      \u003cth id\u003d\"T_8a444_level0_row6\" class\u003d\"row_heading level0 row6\" \u003e6\u003c/th\u003e\n      \u003ctd id\u003d\"T_8a444_row6_col0\" class\u003d\"data row6 col0\" \u003ePierre\u003c/td\u003e\n      \u003ctd id\u003d\"T_8a444_row6_col1\" class\u003d\"data row6 col1\" \u003eEva\u003c/td\u003e\n      \u003ctd id\u003d\"T_8a444_row6_col2\" class\u003d\"data row6 col2\" \u003e0.333333\u003c/td\u003e\n    \u003c/tr\u003e\n    \u003ctr\u003e\n      \u003cth id\u003d\"T_8a444_level0_row7\" class\u003d\"row_heading level0 row7\" \u003e7\u003c/th\u003e\n      \u003ctd id\u003d\"T_8a444_row7_col0\" class\u003d\"data row7 col0\" \u003ePierre\u003c/td\u003e\n      \u003ctd id\u003d\"T_8a444_row7_col1\" class\u003d\"data row7 col1\" \u003eRomain\u003c/td\u003e\n      \u003ctd id\u003d\"T_8a444_row7_col2\" class\u003d\"data row7 col2\" \u003e0.333333\u003c/td\u003e\n    \u003c/tr\u003e\n    \u003ctr\u003e\n      \u003cth id\u003d\"T_8a444_level0_row8\" class\u003d\"row_heading level0 row8\" \u003e8\u003c/th\u003e\n      \u003ctd id\u003d\"T_8a444_row8_col0\" class\u003d\"data row8 col0\" \u003eEva\u003c/td\u003e\n      \u003ctd id\u003d\"T_8a444_row8_col1\" class\u003d\"data row8 col1\" \u003eNicolas\u003c/td\u003e\n      \u003ctd id\u003d\"T_8a444_row8_col2\" class\u003d\"data row8 col2\" \u003e1.000000\u003c/td\u003e\n    \u003c/tr\u003e\n    \u003ctr\u003e\n      \u003cth id\u003d\"T_8a444_level0_row9\" class\u003d\"row_heading level0 row9\" \u003e9\u003c/th\u003e\n      \u003ctd id\u003d\"T_8a444_row9_col0\" class\u003d\"data row9 col0\" \u003eEva\u003c/td\u003e\n      \u003ctd id\u003d\"T_8a444_row9_col1\" class\u003d\"data row9 col1\" \u003ePierre\u003c/td\u003e\n      \u003ctd id\u003d\"T_8a444_row9_col2\" class\u003d\"data row9 col2\" \u003e0.333333\u003c/td\u003e\n    \u003c/tr\u003e\n    \u003ctr\u003e\n      \u003cth id\u003d\"T_8a444_level0_row10\" class\u003d\"row_heading level0 row10\" \u003e10\u003c/th\u003e\n      \u003ctd id\u003d\"T_8a444_row10_col0\" class\u003d\"data row10 col0\" \u003eEva\u003c/td\u003e\n      \u003ctd id\u003d\"T_8a444_row10_col1\" class\u003d\"data row10 col1\" \u003eEva\u003c/td\u003e\n      \u003ctd id\u003d\"T_8a444_row10_col2\" class\u003d\"data row10 col2\" \u003e0.000000\u003c/td\u003e\n    \u003c/tr\u003e\n    \u003ctr\u003e\n      \u003cth id\u003d\"T_8a444_level0_row11\" class\u003d\"row_heading level0 row11\" \u003e11\u003c/th\u003e\n      \u003ctd id\u003d\"T_8a444_row11_col0\" class\u003d\"data row11 col0\" \u003eEva\u003c/td\u003e\n      \u003ctd id\u003d\"T_8a444_row11_col1\" class\u003d\"data row11 col1\" \u003eRomain\u003c/td\u003e\n      \u003ctd id\u003d\"T_8a444_row11_col2\" class\u003d\"data row11 col2\" \u003e0.000000\u003c/td\u003e\n    \u003c/tr\u003e\n    \u003ctr\u003e\n      \u003cth id\u003d\"T_8a444_level0_row12\" class\u003d\"row_heading level0 row12\" \u003e12\u003c/th\u003e\n      \u003ctd id\u003d\"T_8a444_row12_col0\" class\u003d\"data row12 col0\" \u003eRomain\u003c/td\u003e\n      \u003ctd id\u003d\"T_8a444_row12_col1\" class\u003d\"data row12 col1\" \u003eNicolas\u003c/td\u003e\n      \u003ctd id\u003d\"T_8a444_row12_col2\" class\u003d\"data row12 col2\" \u003e0.000000\u003c/td\u003e\n    \u003c/tr\u003e\n    \u003ctr\u003e\n      \u003cth id\u003d\"T_8a444_level0_row13\" class\u003d\"row_heading level0 row13\" \u003e13\u003c/th\u003e\n      \u003ctd id\u003d\"T_8a444_row13_col0\" class\u003d\"data row13 col0\" \u003eRomain\u003c/td\u003e\n      \u003ctd id\u003d\"T_8a444_row13_col1\" class\u003d\"data row13 col1\" \u003ePierre\u003c/td\u003e\n      \u003ctd id\u003d\"T_8a444_row13_col2\" class\u003d\"data row13 col2\" \u003e0.333333\u003c/td\u003e\n    \u003c/tr\u003e\n    \u003ctr\u003e\n      \u003cth id\u003d\"T_8a444_level0_row14\" class\u003d\"row_heading level0 row14\" \u003e14\u003c/th\u003e\n      \u003ctd id\u003d\"T_8a444_row14_col0\" class\u003d\"data row14 col0\" \u003eRomain\u003c/td\u003e\n      \u003ctd id\u003d\"T_8a444_row14_col1\" class\u003d\"data row14 col1\" \u003eEva\u003c/td\u003e\n      \u003ctd id\u003d\"T_8a444_row14_col2\" class\u003d\"data row14 col2\" \u003e0.000000\u003c/td\u003e\n    \u003c/tr\u003e\n    \u003ctr\u003e\n      \u003cth id\u003d\"T_8a444_level0_row15\" class\u003d\"row_heading level0 row15\" \u003e15\u003c/th\u003e\n      \u003ctd id\u003d\"T_8a444_row15_col0\" class\u003d\"data row15 col0\" \u003eRomain\u003c/td\u003e\n      \u003ctd id\u003d\"T_8a444_row15_col1\" class\u003d\"data row15 col1\" \u003eRomain\u003c/td\u003e\n      \u003ctd id\u003d\"T_8a444_row15_col2\" class\u003d\"data row15 col2\" \u003e0.000000\u003c/td\u003e\n    \u003c/tr\u003e\n  \u003c/tbody\u003e\n\u003c/table\u003e\n"
          },
          "metadata": {}
        }
      ]
    },
    {
      "execution_count": 36,
      "cell_type": "code",
      "metadata": {},
      "source": [
        "plt.scatter(pd[\u0027person1\u0027], pd[\u0027person2\u0027], pd[\u0027score\u0027],color\u003d\u0027red\u0027)"
      ],
      "outputs": [
        {
          "output_type": "execute_result",
          "execution_count": 36,
          "data": {
            "text/plain": "\u003cmatplotlib.collections.PathCollection at 0x7fbda1f97350\u003e"
          },
          "metadata": {}
        },
        {
          "output_type": "display_data",
          "data": {
            "text/plain": "\u003cFigure size 432x288 with 1 Axes\u003e",
            "image/png": "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\u003d\n"
          },
          "metadata": {}
        }
      ]
    },
    {
      "execution_count": 38,
      "cell_type": "code",
      "metadata": {},
      "source": [
        ""
      ],
      "outputs": []
    },
    {
      "execution_count": 0,
      "cell_type": "code",
      "metadata": {},
      "source": [
        ""
      ],
      "outputs": []
    }
  ]
}