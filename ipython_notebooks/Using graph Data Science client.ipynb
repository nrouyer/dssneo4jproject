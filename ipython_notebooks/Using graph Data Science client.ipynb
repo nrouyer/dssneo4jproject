{
  "metadata": {
    "kernelspec": {
      "name": "python3",
      "display_name": "Python 3",
      "language": "python"
    },
    "creator": "admin",
    "createdOn": 1650898197503,
    "tags": [],
    "customFields": {},
    "hide_input": false,
    "language_info": {
      "name": "python",
      "version": "3.7.10",
      "mimetype": "text/x-python",
      "codemirror_mode": {
        "name": "ipython",
        "version": 3
      },
      "pygments_lexer": "ipython3",
      "nbconvert_exporter": "python",
      "file_extension": ".py"
    },
    "modifiedBy": "admin",
    "versionNumber": 1
  },
  "nbformat": 4,
  "nbformat_minor": 1,
  "cells": [
    {
      "execution_count": 26,
      "cell_type": "code",
      "metadata": {},
      "source": [
        "from graphdatascience import GraphDataScience\n\n# Configures the driver with AuraDS-recommended settings\ngds \u003d GraphDataScience(\n    \"neo4j+ssc://35.181.44.209:7687\",\n    auth\u003d(\"neo4j\", \"neo4jdss\")\n)\n\nprint(gds.version())"
      ],
      "outputs": [
        {
          "output_type": "stream",
          "text": "2.0.2\n",
          "name": "stdout"
        }
      ]
    },
    {
      "execution_count": 27,
      "cell_type": "code",
      "metadata": {},
      "source": [
        "# Sets database (if not default one)\ngds.set_database(\"wine\")"
      ],
      "outputs": []
    },
    {
      "execution_count": 8,
      "cell_type": "code",
      "metadata": {},
      "source": [
        "# Create a minimal similarity graph\ngds.run_cypher(\n  \"\"\"\n  WITH \u0027Trimbach, Pinot Gris Hommage Jeanne\u0027 AS wine1, \u0027Schieferkopf, Sylvaner\u0027 AS wine2, \u0027Hugel, Cuvee des Eveques Riesling\u0027 AS wine3, \u0027Hugel, Tokay Pinot Gris Jubilee\u0027 AS wine4, \u0027Nicolas\u0027 AS person1, \u0027Pierre\u0027 AS person2, \u0027Eva\u0027 AS person3, \u0027Romain\u0027 AS person4\n  MATCH (w1:Wine) WHERE w1.DISPLAY_NAME \u003d wine1\n  MATCH (w2:Wine) WHERE w2.DISPLAY_NAME \u003d wine2\n  MATCH (w3:Wine) WHERE w3.DISPLAY_NAME \u003d wine3\n  MATCH (w4:Wine) WHERE w4.DISPLAY_NAME \u003d wine4\n  MERGE (p1:Person {name: person1})\n  MERGE (p2:Person {name: person2})\n  MERGE (p3:Person {name: person3})\n  MERGE (p4:Person {name: person4})\n  MERGE (p1)-[:LIKES]-\u003e(w1)\n  MERGE (p1)-[:LIKES]-\u003e(w2)\n  MERGE (p2)-[:LIKES]-\u003e(w2)\n  MERGE (p2)-[:LIKES]-\u003e(w3)\n  MERGE (p3)-[:LIKES]-\u003e(w1)\n  MERGE (p3)-[:LIKES]-\u003e(w2)\n  MERGE (p4)-[:LIKES]-\u003e(w3)\n  MERGE (p4)-[:LIKES]-\u003e(w4)\n  \"\"\"\n)"
      ],
      "outputs": [
        {
          "output_type": "execute_result",
          "execution_count": 8,
          "data": {
            "text/plain": "Empty DataFrame\nColumns: []\nIndex: []",
            "text/html": "\u003cdiv\u003e\n\u003cstyle scoped\u003e\n    .dataframe tbody tr th:only-of-type {\n        vertical-align: middle;\n    }\n\n    .dataframe tbody tr th {\n        vertical-align: top;\n    }\n\n    .dataframe thead th {\n        text-align: right;\n    }\n\u003c/style\u003e\n\u003ctable border\u003d\"1\" class\u003d\"dataframe\"\u003e\n  \u003cthead\u003e\n    \u003ctr style\u003d\"text-align: right;\"\u003e\n      \u003cth\u003e\u003c/th\u003e\n    \u003c/tr\u003e\n  \u003c/thead\u003e\n  \u003ctbody\u003e\n  \u003c/tbody\u003e\n\u003c/table\u003e\n\u003c/div\u003e"
          },
          "metadata": {}
        }
      ]
    },
    {
      "execution_count": 9,
      "cell_type": "code",
      "metadata": {},
      "source": [
        "# Project the graph into the GDS Graph Catalog\n# We call the object representing the projected graph `G_wines`\nG_wines, res \u003d gds.graph.project(\"neo4j-wines\", [\"Person\", \"Wine\"], \"LIKES\")"
      ],
      "outputs": []
    },
    {
      "execution_count": 11,
      "cell_type": "code",
      "metadata": {},
      "source": [
        "n \u003d G_wines.node_count()"
      ],
      "outputs": []
    },
    {
      "execution_count": 12,
      "cell_type": "code",
      "metadata": {},
      "source": [
        "n"
      ],
      "outputs": [
        {
          "output_type": "execute_result",
          "execution_count": 12,
          "data": {
            "text/plain": "125218"
          },
          "metadata": {}
        }
      ]
    },
    {
      "execution_count": 15,
      "cell_type": "code",
      "metadata": {},
      "source": [
        "similarity_res \u003d gds.nodeSimilarity.write(\n    G_wines,                          #  Graph object\n    writeRelationshipType\u003d\"SIMILAR\",  #  Configuration parameters\n    writeProperty\u003d\"score\"\n)"
      ],
      "outputs": []
    },
    {
      "execution_count": 16,
      "cell_type": "code",
      "metadata": {},
      "source": [
        "similarity_res"
      ],
      "outputs": [
        {
          "output_type": "execute_result",
          "execution_count": 16,
          "data": {
            "text/plain": "preProcessingMillis                                                       0\ncomputeMillis                                                            55\nwriteMillis                                                              47\npostProcessingMillis                                                     -1\nnodesCompared                                                             4\nrelationshipsWritten                                                      8\nsimilarityDistribution    {\u0027p1\u0027: 0.3333320617675781, \u0027max\u0027: 1.0000057220...\nconfiguration             {\u0027topK\u0027: 10, \u0027writeConcurrency\u0027: 4, \u0027similarit...\nName: 0, dtype: object"
          },
          "metadata": {}
        }
      ]
    },
    {
      "execution_count": 30,
      "cell_type": "code",
      "metadata": {},
      "source": [
        "import pandas\nimport matplotlib.pyplot as plt"
      ],
      "outputs": []
    },
    {
      "execution_count": 28,
      "cell_type": "code",
      "metadata": {},
      "source": [
        "# get similarity matrix data frame from graph\n# Create a minimal similarity graph\npd \u003d gds.run_cypher(\n  \"\"\"\n  MATCH (p1:Person)\n  MATCH (p2:Person)\n  OPTIONAL MATCH (p1)-[s:SIMILAR]-\u003e(p2)\n  RETURN p1.name AS person1, p2.name AS person2, coalesce(s.score, 0) AS score\n  \"\"\"\n)"
      ],
      "outputs": []
    },
    {
      "execution_count": 29,
      "cell_type": "code",
      "metadata": {},
      "source": [
        "pd"
      ],
      "outputs": [
        {
          "output_type": "execute_result",
          "execution_count": 29,
          "data": {
            "text/plain": "    person1  person2     score\n0   Nicolas  Nicolas  0.000000\n1   Nicolas   Pierre  0.333333\n2   Nicolas      Eva  1.000000\n3   Nicolas   Romain  0.000000\n4    Pierre  Nicolas  0.333333\n5    Pierre   Pierre  0.000000\n6    Pierre      Eva  0.333333\n7    Pierre   Romain  0.333333\n8       Eva  Nicolas  1.000000\n9       Eva   Pierre  0.333333\n10      Eva      Eva  0.000000\n11      Eva   Romain  0.000000\n12   Romain  Nicolas  0.000000\n13   Romain   Pierre  0.333333\n14   Romain      Eva  0.000000\n15   Romain   Romain  0.000000",
            "text/html": "\u003cdiv\u003e\n\u003cstyle scoped\u003e\n    .dataframe tbody tr th:only-of-type {\n        vertical-align: middle;\n    }\n\n    .dataframe tbody tr th {\n        vertical-align: top;\n    }\n\n    .dataframe thead th {\n        text-align: right;\n    }\n\u003c/style\u003e\n\u003ctable border\u003d\"1\" class\u003d\"dataframe\"\u003e\n  \u003cthead\u003e\n    \u003ctr style\u003d\"text-align: right;\"\u003e\n      \u003cth\u003e\u003c/th\u003e\n      \u003cth\u003eperson1\u003c/th\u003e\n      \u003cth\u003eperson2\u003c/th\u003e\n      \u003cth\u003escore\u003c/th\u003e\n    \u003c/tr\u003e\n  \u003c/thead\u003e\n  \u003ctbody\u003e\n    \u003ctr\u003e\n      \u003cth\u003e0\u003c/th\u003e\n      \u003ctd\u003eNicolas\u003c/td\u003e\n      \u003ctd\u003eNicolas\u003c/td\u003e\n      \u003ctd\u003e0.000000\u003c/td\u003e\n    \u003c/tr\u003e\n    \u003ctr\u003e\n      \u003cth\u003e1\u003c/th\u003e\n      \u003ctd\u003eNicolas\u003c/td\u003e\n      \u003ctd\u003ePierre\u003c/td\u003e\n      \u003ctd\u003e0.333333\u003c/td\u003e\n    \u003c/tr\u003e\n    \u003ctr\u003e\n      \u003cth\u003e2\u003c/th\u003e\n      \u003ctd\u003eNicolas\u003c/td\u003e\n      \u003ctd\u003eEva\u003c/td\u003e\n      \u003ctd\u003e1.000000\u003c/td\u003e\n    \u003c/tr\u003e\n    \u003ctr\u003e\n      \u003cth\u003e3\u003c/th\u003e\n      \u003ctd\u003eNicolas\u003c/td\u003e\n      \u003ctd\u003eRomain\u003c/td\u003e\n      \u003ctd\u003e0.000000\u003c/td\u003e\n    \u003c/tr\u003e\n    \u003ctr\u003e\n      \u003cth\u003e4\u003c/th\u003e\n      \u003ctd\u003ePierre\u003c/td\u003e\n      \u003ctd\u003eNicolas\u003c/td\u003e\n      \u003ctd\u003e0.333333\u003c/td\u003e\n    \u003c/tr\u003e\n    \u003ctr\u003e\n      \u003cth\u003e5\u003c/th\u003e\n      \u003ctd\u003ePierre\u003c/td\u003e\n      \u003ctd\u003ePierre\u003c/td\u003e\n      \u003ctd\u003e0.000000\u003c/td\u003e\n    \u003c/tr\u003e\n    \u003ctr\u003e\n      \u003cth\u003e6\u003c/th\u003e\n      \u003ctd\u003ePierre\u003c/td\u003e\n      \u003ctd\u003eEva\u003c/td\u003e\n      \u003ctd\u003e0.333333\u003c/td\u003e\n    \u003c/tr\u003e\n    \u003ctr\u003e\n      \u003cth\u003e7\u003c/th\u003e\n      \u003ctd\u003ePierre\u003c/td\u003e\n      \u003ctd\u003eRomain\u003c/td\u003e\n      \u003ctd\u003e0.333333\u003c/td\u003e\n    \u003c/tr\u003e\n    \u003ctr\u003e\n      \u003cth\u003e8\u003c/th\u003e\n      \u003ctd\u003eEva\u003c/td\u003e\n      \u003ctd\u003eNicolas\u003c/td\u003e\n      \u003ctd\u003e1.000000\u003c/td\u003e\n    \u003c/tr\u003e\n    \u003ctr\u003e\n      \u003cth\u003e9\u003c/th\u003e\n      \u003ctd\u003eEva\u003c/td\u003e\n      \u003ctd\u003ePierre\u003c/td\u003e\n      \u003ctd\u003e0.333333\u003c/td\u003e\n    \u003c/tr\u003e\n    \u003ctr\u003e\n      \u003cth\u003e10\u003c/th\u003e\n      \u003ctd\u003eEva\u003c/td\u003e\n      \u003ctd\u003eEva\u003c/td\u003e\n      \u003ctd\u003e0.000000\u003c/td\u003e\n    \u003c/tr\u003e\n    \u003ctr\u003e\n      \u003cth\u003e11\u003c/th\u003e\n      \u003ctd\u003eEva\u003c/td\u003e\n      \u003ctd\u003eRomain\u003c/td\u003e\n      \u003ctd\u003e0.000000\u003c/td\u003e\n    \u003c/tr\u003e\n    \u003ctr\u003e\n      \u003cth\u003e12\u003c/th\u003e\n      \u003ctd\u003eRomain\u003c/td\u003e\n      \u003ctd\u003eNicolas\u003c/td\u003e\n      \u003ctd\u003e0.000000\u003c/td\u003e\n    \u003c/tr\u003e\n    \u003ctr\u003e\n      \u003cth\u003e13\u003c/th\u003e\n      \u003ctd\u003eRomain\u003c/td\u003e\n      \u003ctd\u003ePierre\u003c/td\u003e\n      \u003ctd\u003e0.333333\u003c/td\u003e\n    \u003c/tr\u003e\n    \u003ctr\u003e\n      \u003cth\u003e14\u003c/th\u003e\n      \u003ctd\u003eRomain\u003c/td\u003e\n      \u003ctd\u003eEva\u003c/td\u003e\n      \u003ctd\u003e0.000000\u003c/td\u003e\n    \u003c/tr\u003e\n    \u003ctr\u003e\n      \u003cth\u003e15\u003c/th\u003e\n      \u003ctd\u003eRomain\u003c/td\u003e\n      \u003ctd\u003eRomain\u003c/td\u003e\n      \u003ctd\u003e0.000000\u003c/td\u003e\n    \u003c/tr\u003e\n  \u003c/tbody\u003e\n\u003c/table\u003e\n\u003c/div\u003e"
          },
          "metadata": {}
        }
      ]
    },
    {
      "execution_count": 34,
      "cell_type": "code",
      "metadata": {},
      "source": [
        "pd.style.background_gradient(cmap \u003d\u0027RdYlBu\u0027)\\\n        .set_properties(**{\u0027font-size\u0027: \u002714px\u0027})"
      ],
      "outputs": [
        {
          "output_type": "execute_result",
          "execution_count": 34,
          "data": {
            "text/plain": "\u003cpandas.io.formats.style.Styler at 0x7fbda202ded0\u003e",
            "text/html": "\u003cstyle type\u003d\"text/css\"\u003e\n#T_8a444_row0_col0, #T_8a444_row0_col1, #T_8a444_row1_col0, #T_8a444_row1_col1, #T_8a444_row2_col0, #T_8a444_row2_col1, #T_8a444_row3_col0, #T_8a444_row3_col1, #T_8a444_row4_col0, #T_8a444_row4_col1, #T_8a444_row5_col0, #T_8a444_row5_col1, #T_8a444_row6_col0, #T_8a444_row6_col1, #T_8a444_row7_col0, #T_8a444_row7_col1, #T_8a444_row8_col0, #T_8a444_row8_col1, #T_8a444_row9_col0, #T_8a444_row9_col1, #T_8a444_row10_col0, #T_8a444_row10_col1, #T_8a444_row11_col0, #T_8a444_row11_col1, #T_8a444_row12_col0, #T_8a444_row12_col1, #T_8a444_row13_col0, #T_8a444_row13_col1, #T_8a444_row14_col0, #T_8a444_row14_col1, #T_8a444_row15_col0, #T_8a444_row15_col1 {\n  font-size: 14px;\n}\n#T_8a444_row0_col2, #T_8a444_row3_col2, #T_8a444_row5_col2, #T_8a444_row10_col2, #T_8a444_row11_col2, #T_8a444_row12_col2, #T_8a444_row14_col2, #T_8a444_row15_col2 {\n  background-color: #a50026;\n  color: #f1f1f1;\n  font-size: 14px;\n}\n#T_8a444_row1_col2, #T_8a444_row4_col2, #T_8a444_row6_col2, #T_8a444_row7_col2, #T_8a444_row9_col2, #T_8a444_row13_col2 {\n  background-color: #fdbf71;\n  color: #000000;\n  font-size: 14px;\n}\n#T_8a444_row2_col2, #T_8a444_row8_col2 {\n  background-color: #313695;\n  color: #f1f1f1;\n  font-size: 14px;\n}\n\u003c/style\u003e\n\u003ctable id\u003d\"T_8a444_\"\u003e\n  \u003cthead\u003e\n    \u003ctr\u003e\n      \u003cth class\u003d\"blank level0\" \u003e\u0026nbsp;\u003c/th\u003e\n      \u003cth class\u003d\"col_heading level0 col0\" \u003eperson1\u003c/th\u003e\n      \u003cth class\u003d\"col_heading level0 col1\" \u003eperson2\u003c/th\u003e\n      \u003cth class\u003d\"col_heading level0 col2\" \u003escore\u003c/th\u003e\n    \u003c/tr\u003e\n  \u003c/thead\u003e\n  \u003ctbody\u003e\n    \u003ctr\u003e\n      \u003cth id\u003d\"T_8a444_level0_row0\" class\u003d\"row_heading level0 row0\" \u003e0\u003c/th\u003e\n      \u003ctd id\u003d\"T_8a444_row0_col0\" class\u003d\"data row0 col0\" \u003eNicolas\u003c/td\u003e\n      \u003ctd id\u003d\"T_8a444_row0_col1\" class\u003d\"data row0 col1\" \u003eNicolas\u003c/td\u003e\n      \u003ctd id\u003d\"T_8a444_row0_col2\" class\u003d\"data row0 col2\" \u003e0.000000\u003c/td\u003e\n    \u003c/tr\u003e\n    \u003ctr\u003e\n      \u003cth id\u003d\"T_8a444_level0_row1\" class\u003d\"row_heading level0 row1\" \u003e1\u003c/th\u003e\n      \u003ctd id\u003d\"T_8a444_row1_col0\" class\u003d\"data row1 col0\" \u003eNicolas\u003c/td\u003e\n      \u003ctd id\u003d\"T_8a444_row1_col1\" class\u003d\"data row1 col1\" \u003ePierre\u003c/td\u003e\n      \u003ctd id\u003d\"T_8a444_row1_col2\" class\u003d\"data row1 col2\" \u003e0.333333\u003c/td\u003e\n    \u003c/tr\u003e\n    \u003ctr\u003e\n      \u003cth id\u003d\"T_8a444_level0_row2\" class\u003d\"row_heading level0 row2\" \u003e2\u003c/th\u003e\n      \u003ctd id\u003d\"T_8a444_row2_col0\" class\u003d\"data row2 col0\" \u003eNicolas\u003c/td\u003e\n      \u003ctd id\u003d\"T_8a444_row2_col1\" class\u003d\"data row2 col1\" \u003eEva\u003c/td\u003e\n      \u003ctd id\u003d\"T_8a444_row2_col2\" class\u003d\"data row2 col2\" \u003e1.000000\u003c/td\u003e\n    \u003c/tr\u003e\n    \u003ctr\u003e\n      \u003cth id\u003d\"T_8a444_level0_row3\" class\u003d\"row_heading level0 row3\" \u003e3\u003c/th\u003e\n      \u003ctd id\u003d\"T_8a444_row3_col0\" class\u003d\"data row3 col0\" \u003eNicolas\u003c/td\u003e\n      \u003ctd id\u003d\"T_8a444_row3_col1\" class\u003d\"data row3 col1\" \u003eRomain\u003c/td\u003e\n      \u003ctd id\u003d\"T_8a444_row3_col2\" class\u003d\"data row3 col2\" \u003e0.000000\u003c/td\u003e\n    \u003c/tr\u003e\n    \u003ctr\u003e\n      \u003cth id\u003d\"T_8a444_level0_row4\" class\u003d\"row_heading level0 row4\" \u003e4\u003c/th\u003e\n      \u003ctd id\u003d\"T_8a444_row4_col0\" class\u003d\"data row4 col0\" \u003ePierre\u003c/td\u003e\n      \u003ctd id\u003d\"T_8a444_row4_col1\" class\u003d\"data row4 col1\" \u003eNicolas\u003c/td\u003e\n      \u003ctd id\u003d\"T_8a444_row4_col2\" class\u003d\"data row4 col2\" \u003e0.333333\u003c/td\u003e\n    \u003c/tr\u003e\n    \u003ctr\u003e\n      \u003cth id\u003d\"T_8a444_level0_row5\" class\u003d\"row_heading level0 row5\" \u003e5\u003c/th\u003e\n      \u003ctd id\u003d\"T_8a444_row5_col0\" class\u003d\"data row5 col0\" \u003ePierre\u003c/td\u003e\n      \u003ctd id\u003d\"T_8a444_row5_col1\" class\u003d\"data row5 col1\" \u003ePierre\u003c/td\u003e\n      \u003ctd id\u003d\"T_8a444_row5_col2\" class\u003d\"data row5 col2\" \u003e0.000000\u003c/td\u003e\n    \u003c/tr\u003e\n    \u003ctr\u003e\n      \u003cth id\u003d\"T_8a444_level0_row6\" class\u003d\"row_heading level0 row6\" \u003e6\u003c/th\u003e\n      \u003ctd id\u003d\"T_8a444_row6_col0\" class\u003d\"data row6 col0\" \u003ePierre\u003c/td\u003e\n      \u003ctd id\u003d\"T_8a444_row6_col1\" class\u003d\"data row6 col1\" \u003eEva\u003c/td\u003e\n      \u003ctd id\u003d\"T_8a444_row6_col2\" class\u003d\"data row6 col2\" \u003e0.333333\u003c/td\u003e\n    \u003c/tr\u003e\n    \u003ctr\u003e\n      \u003cth id\u003d\"T_8a444_level0_row7\" class\u003d\"row_heading level0 row7\" \u003e7\u003c/th\u003e\n      \u003ctd id\u003d\"T_8a444_row7_col0\" class\u003d\"data row7 col0\" \u003ePierre\u003c/td\u003e\n      \u003ctd id\u003d\"T_8a444_row7_col1\" class\u003d\"data row7 col1\" \u003eRomain\u003c/td\u003e\n      \u003ctd id\u003d\"T_8a444_row7_col2\" class\u003d\"data row7 col2\" \u003e0.333333\u003c/td\u003e\n    \u003c/tr\u003e\n    \u003ctr\u003e\n      \u003cth id\u003d\"T_8a444_level0_row8\" class\u003d\"row_heading level0 row8\" \u003e8\u003c/th\u003e\n      \u003ctd id\u003d\"T_8a444_row8_col0\" class\u003d\"data row8 col0\" \u003eEva\u003c/td\u003e\n      \u003ctd id\u003d\"T_8a444_row8_col1\" class\u003d\"data row8 col1\" \u003eNicolas\u003c/td\u003e\n      \u003ctd id\u003d\"T_8a444_row8_col2\" class\u003d\"data row8 col2\" \u003e1.000000\u003c/td\u003e\n    \u003c/tr\u003e\n    \u003ctr\u003e\n      \u003cth id\u003d\"T_8a444_level0_row9\" class\u003d\"row_heading level0 row9\" \u003e9\u003c/th\u003e\n      \u003ctd id\u003d\"T_8a444_row9_col0\" class\u003d\"data row9 col0\" \u003eEva\u003c/td\u003e\n      \u003ctd id\u003d\"T_8a444_row9_col1\" class\u003d\"data row9 col1\" \u003ePierre\u003c/td\u003e\n      \u003ctd id\u003d\"T_8a444_row9_col2\" class\u003d\"data row9 col2\" \u003e0.333333\u003c/td\u003e\n    \u003c/tr\u003e\n    \u003ctr\u003e\n      \u003cth id\u003d\"T_8a444_level0_row10\" class\u003d\"row_heading level0 row10\" \u003e10\u003c/th\u003e\n      \u003ctd id\u003d\"T_8a444_row10_col0\" class\u003d\"data row10 col0\" \u003eEva\u003c/td\u003e\n      \u003ctd id\u003d\"T_8a444_row10_col1\" class\u003d\"data row10 col1\" \u003eEva\u003c/td\u003e\n      \u003ctd id\u003d\"T_8a444_row10_col2\" class\u003d\"data row10 col2\" \u003e0.000000\u003c/td\u003e\n    \u003c/tr\u003e\n    \u003ctr\u003e\n      \u003cth id\u003d\"T_8a444_level0_row11\" class\u003d\"row_heading level0 row11\" \u003e11\u003c/th\u003e\n      \u003ctd id\u003d\"T_8a444_row11_col0\" class\u003d\"data row11 col0\" \u003eEva\u003c/td\u003e\n      \u003ctd id\u003d\"T_8a444_row11_col1\" class\u003d\"data row11 col1\" \u003eRomain\u003c/td\u003e\n      \u003ctd id\u003d\"T_8a444_row11_col2\" class\u003d\"data row11 col2\" \u003e0.000000\u003c/td\u003e\n    \u003c/tr\u003e\n    \u003ctr\u003e\n      \u003cth id\u003d\"T_8a444_level0_row12\" class\u003d\"row_heading level0 row12\" \u003e12\u003c/th\u003e\n      \u003ctd id\u003d\"T_8a444_row12_col0\" class\u003d\"data row12 col0\" \u003eRomain\u003c/td\u003e\n      \u003ctd id\u003d\"T_8a444_row12_col1\" class\u003d\"data row12 col1\" \u003eNicolas\u003c/td\u003e\n      \u003ctd id\u003d\"T_8a444_row12_col2\" class\u003d\"data row12 col2\" \u003e0.000000\u003c/td\u003e\n    \u003c/tr\u003e\n    \u003ctr\u003e\n      \u003cth id\u003d\"T_8a444_level0_row13\" class\u003d\"row_heading level0 row13\" \u003e13\u003c/th\u003e\n      \u003ctd id\u003d\"T_8a444_row13_col0\" class\u003d\"data row13 col0\" \u003eRomain\u003c/td\u003e\n      \u003ctd id\u003d\"T_8a444_row13_col1\" class\u003d\"data row13 col1\" \u003ePierre\u003c/td\u003e\n      \u003ctd id\u003d\"T_8a444_row13_col2\" class\u003d\"data row13 col2\" \u003e0.333333\u003c/td\u003e\n    \u003c/tr\u003e\n    \u003ctr\u003e\n      \u003cth id\u003d\"T_8a444_level0_row14\" class\u003d\"row_heading level0 row14\" \u003e14\u003c/th\u003e\n      \u003ctd id\u003d\"T_8a444_row14_col0\" class\u003d\"data row14 col0\" \u003eRomain\u003c/td\u003e\n      \u003ctd id\u003d\"T_8a444_row14_col1\" class\u003d\"data row14 col1\" \u003eEva\u003c/td\u003e\n      \u003ctd id\u003d\"T_8a444_row14_col2\" class\u003d\"data row14 col2\" \u003e0.000000\u003c/td\u003e\n    \u003c/tr\u003e\n    \u003ctr\u003e\n      \u003cth id\u003d\"T_8a444_level0_row15\" class\u003d\"row_heading level0 row15\" \u003e15\u003c/th\u003e\n      \u003ctd id\u003d\"T_8a444_row15_col0\" class\u003d\"data row15 col0\" \u003eRomain\u003c/td\u003e\n      \u003ctd id\u003d\"T_8a444_row15_col1\" class\u003d\"data row15 col1\" \u003eRomain\u003c/td\u003e\n      \u003ctd id\u003d\"T_8a444_row15_col2\" class\u003d\"data row15 col2\" \u003e0.000000\u003c/td\u003e\n    \u003c/tr\u003e\n  \u003c/tbody\u003e\n\u003c/table\u003e\n"
          },
          "metadata": {}
        }
      ]
    },
    {
      "execution_count": 39,
      "cell_type": "code",
      "metadata": {},
      "source": [
        "plt.scatter(pd[\u0027person1\u0027], pd[\u0027person2\u0027], pd[\u0027score\u0027],cmap\u003d\u0027plasma\u0027)"
      ],
      "outputs": [
        {
          "output_type": "execute_result",
          "execution_count": 39,
          "data": {
            "text/plain": "\u003cmatplotlib.collections.PathCollection at 0x7fbda28ce710\u003e"
          },
          "metadata": {}
        },
        {
          "output_type": "display_data",
          "data": {
            "text/plain": "\u003cFigure size 432x288 with 1 Axes\u003e",
            "image/png": "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\u003d\n"
          },
          "metadata": {}
        }
      ]
    },
    {
      "execution_count": 40,
      "cell_type": "code",
      "metadata": {},
      "source": [
        "plt.show()"
      ],
      "outputs": []
    },
    {
      "execution_count": 0,
      "cell_type": "code",
      "metadata": {},
      "source": [
        ""
      ],
      "outputs": []
    }
  ]
}