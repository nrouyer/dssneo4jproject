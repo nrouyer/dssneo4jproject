{
  "metadata": {
    "kernelspec": {
      "name": "python3",
      "display_name": "Python 3",
      "language": "python"
    },
    "creator": "admin",
    "createdOn": 1650898197503,
    "tags": [],
    "customFields": {},
    "hide_input": false,
    "language_info": {
      "name": "python",
      "version": "3.7.10",
      "mimetype": "text/x-python",
      "codemirror_mode": {
        "name": "ipython",
        "version": 3
      },
      "pygments_lexer": "ipython3",
      "nbconvert_exporter": "python",
      "file_extension": ".py"
    },
    "modifiedBy": "admin"
  },
  "nbformat": 4,
  "nbformat_minor": 1,
  "cells": [
    {
      "execution_count": 1,
      "cell_type": "code",
      "metadata": {},
      "source": [
        "from graphdatascience import GraphDataScience\n\n# Configures the driver with AuraDS-recommended settings\ngds \u003d GraphDataScience(\n    \"neo4j+ssc://35.181.44.209:7687\",\n    auth\u003d(\"neo4j\", \"neo4jdss\")\n)\n\nprint(gds.version())"
      ],
      "outputs": [
        {
          "output_type": "stream",
          "text": "2.0.2\n",
          "name": "stdout"
        }
      ]
    },
    {
      "execution_count": 5,
      "cell_type": "code",
      "metadata": {},
      "source": [
        "# Sets database (if not default one)\ngds.set_database(\"wine\")"
      ],
      "outputs": []
    },
    {
      "execution_count": 0,
      "cell_type": "code",
      "metadata": {},
      "source": [
        "# Create a minimal similarity graph\ngds.run_cypher(\n  \"\"\"\n  \n  \"\"\"\n)"
      ],
      "outputs": []
    }
  ]
}